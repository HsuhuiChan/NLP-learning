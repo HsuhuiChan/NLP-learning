{
 "cells": [
  {
   "cell_type": "markdown",
   "metadata": {},
   "source": [
    "# 数据集导入，划分训练集和测试集"
   ]
  },
  {
   "cell_type": "code",
   "execution_count": 85,
   "metadata": {},
   "outputs": [
    {
     "name": "stdout",
     "output_type": "stream",
     "text": [
      "   sepal_l  sepal_w  petal_l  petal_w\n",
      "0      5.1      3.5      1.4      0.2\n",
      "1      4.9      3.0      1.4      0.2\n",
      "2      4.7      3.2      1.3      0.2\n",
      "3      4.6      3.1      1.5      0.2\n",
      "4      5.0      3.6      1.4      0.2\n",
      "   label\n",
      "0      0\n",
      "1      0\n",
      "2      0\n",
      "3      0\n",
      "4      0\n"
     ]
    }
   ],
   "source": [
    "# 从sklearn 调入所需要的包\n",
    "from sklearn.model_selection import train_test_split #数据分隔出训练集和验证集.\n",
    "from sklearn import datasets\n",
    "import numpy as np\n",
    "import pandas as pd\n",
    "# 导入精度和召回.\n",
    "from sklearn.metrics import precision_score, recall_score\n",
    "\n",
    "#导入鸢尾花数据\n",
    "iris = datasets.load_iris()\n",
    "data = iris.data\n",
    "label = iris.target\n",
    "data1 = pd.DataFrame(data)\n",
    "data1.columns = ['sepal_l', 'sepal_w', 'petal_l', 'petal_w']\n",
    "label1 = pd.DataFrame(label)\n",
    "label1.columns = ['label']\n",
    "print(data1.head())\n",
    "print(label1.head())"
   ]
  },
  {
   "cell_type": "code",
   "execution_count": 86,
   "metadata": {},
   "outputs": [
    {
     "name": "stdout",
     "output_type": "stream",
     "text": [
      "训练集长度： 105\n",
      "测试集长度： 45\n"
     ]
    }
   ],
   "source": [
    "# 划分训练集和测试集合.\n",
    "train_x, test_x, train_y, test_y = train_test_split(data1, label1, test_size=0.3, random_state=42)\n",
    "print('训练集长度：',len(train_y))\n",
    "print('测试集长度：',len(test_y))"
   ]
  },
  {
   "cell_type": "markdown",
   "metadata": {},
   "source": [
    "## 1.原生态xgboost的使用形式"
   ]
  },
  {
   "cell_type": "code",
   "execution_count": 87,
   "metadata": {},
   "outputs": [
    {
     "name": "stdout",
     "output_type": "stream",
     "text": [
      "验证集精确率： 1.0\n",
      "验证集召回率： 1.0\n"
     ]
    }
   ],
   "source": [
    "import xgboost as xgb\n",
    "\n",
    "# 转换为DMatrix数据格式.\n",
    "dtrain = xgb.DMatrix(train_x,label=train_y)\n",
    "dtest = xgb.DMatrix(test_x)\n",
    "\n",
    "# 设置参数\n",
    "###multi：softmax是使用softmax后产生的分类结果，而multi:softprob是输出的概率矩阵。\n",
    "xgb_params = {\n",
    "    'eta':0.3, #学习率\n",
    "    'silent':True, #输出运行讯息\n",
    "    'objective':'multi:softprob', # 使用多分类生成概率矩阵格式multi:softprob,若使用multi：softmax则产生的分类结果.\n",
    "    'num_class':3, #共有3个类别\n",
    "    'max_depth':3, #深度\n",
    "}\n",
    "num_iter = 20 #迭代的次数\n",
    "\n",
    "# 模型训练\n",
    "model = xgb.train(xgb_params, dtrain, num_iter)\n",
    "\n",
    "# 模型预测\n",
    "test_pre1 = model.predict(dtest)\n",
    "\n",
    "# 选择表示最高概率的列\n",
    "test_pre1 = np.asarray([np.argmax(row) for row in test_pre1])\n",
    "\n",
    "# 模型评估\n",
    "print('验证集精确率：', precision_score(test_y, test_pre1, average='macro'))\n",
    "print('验证集召回率：', recall_score(test_y, test_pre1, average='macro'))"
   ]
  },
  {
   "cell_type": "markdown",
   "metadata": {},
   "source": [
    "## 2.使用sklearn接口形式使用xgboost"
   ]
  },
  {
   "cell_type": "code",
   "execution_count": 88,
   "metadata": {},
   "outputs": [
    {
     "name": "stdout",
     "output_type": "stream",
     "text": [
      "验证集精确率： 1.0\n",
      "验证集召回率： 1.0\n"
     ]
    }
   ],
   "source": [
    "from xgboost import XGBClassifier\n",
    "model = XGBClassifier(\n",
    "    learning_rate = 0.01, #学习率\n",
    "    n_estimators = 3000, # 步长\n",
    "    max_depth = 4, #深度\n",
    "    objective='binary:logistic',\n",
    "    seed=27\n",
    ")\n",
    "model.fit(train_x,train_y)\n",
    "\n",
    "#预测\n",
    "test_pre2 = model.predict(test_x)\n",
    "\n",
    "# 模型评估\n",
    "print('验证集精确率：', precision_score(test_y, test_pre2, average='macro'))\n",
    "print('验证集召回率：', recall_score(test_y, test_pre2, average='macro'))"
   ]
  },
  {
   "cell_type": "markdown",
   "metadata": {},
   "source": [
    "## 3. lightgbm原生使用形式"
   ]
  },
  {
   "cell_type": "code",
   "execution_count": null,
   "metadata": {},
   "outputs": [],
   "source": []
  },
  {
   "cell_type": "code",
   "execution_count": 89,
   "metadata": {
    "scrolled": true
   },
   "outputs": [
    {
     "name": "stdout",
     "output_type": "stream",
     "text": [
      "[10]\ttraining's multi_error: 0.0666667\tvalid_1's multi_error: 0\n",
      "验证集精准率： 1.0\n",
      "验证集召回率： 1.0\n"
     ]
    }
   ],
   "source": [
    "# 转换为DMatrix数据形式.\n",
    "import lightgbm as lgb\n",
    "dtrain = lgb.Dataset(train_x, train_y)\n",
    "dtest = lgb.Dataset(test_x, test_y)\n",
    "\n",
    "# 设置参数\n",
    "lgb_params = {\n",
    "   'boosting_type': 'gbdt',  \n",
    "    'objective': 'multiclass',\n",
    "    'metric': 'multi_error', \n",
    "    'verbose': 10 , # <0 显示致命的, =0 显示错误 (警告), >0 显示信息\n",
    "     'num_class':3 #lightgbm.basic.LightGBMError: b'Number of classes should be specified and greater than 1 for multiclass training'\n",
    "    }\n",
    "\n",
    "\n",
    "# 模型训练\n",
    "clf = lgb.train(lgb_params,dtrain,num_boost_round =10,\n",
    "                valid_sets = [dtrain,dtest],\n",
    "                verbose_eval = 10)\n",
    "# 模型预测\n",
    "test_pre3 = clf.predict(test_x, num_iteration=clf.best_iteration)\n",
    "\n",
    "# 选择表示最高概率的列\n",
    "test_pre3 = np.asarray([np.argmax(row) for row in test_pre3])\n",
    "\n",
    "# 模型评估\n",
    "print('验证集精准率：',precision_score(test_y, test_pre3, average='macro')) \n",
    "print('验证集召回率：',recall_score(test_y, test_pre3, average='macro'))  "
   ]
  },
  {
   "cell_type": "markdown",
   "metadata": {},
   "source": [
    "## 4. sklearn接口形式使用lightgbm"
   ]
  },
  {
   "cell_type": "code",
   "execution_count": 90,
   "metadata": {},
   "outputs": [
    {
     "name": "stdout",
     "output_type": "stream",
     "text": [
      "验证集精准率： 1.0\n",
      "验证集召回率： 1.0\n"
     ]
    }
   ],
   "source": [
    "from lightgbm import LGBMClassifier\n",
    "lgb_params = {\n",
    "    'learning_rate':0.1,\n",
    "    'max_bin':150,\n",
    "    'num_leaves':32,\n",
    "    'max_depth':11,\n",
    "    'objective':'multiclass',\n",
    "    'n_estimators':300\n",
    "}\n",
    "model = LGBMClassifier(**lgb_params)\n",
    "model.fit(train_x,train_y)\n",
    "\n",
    "# 预测\n",
    "test_pre4 = model.predict(test_x)\n",
    "\n",
    "# 模型评估\n",
    "print('验证集精准率：',precision_score(test_y, test_pre4, average='macro')) \n",
    "print('验证集召回率：',recall_score(test_y, test_pre4, average='macro'))  "
   ]
  },
  {
   "cell_type": "code",
   "execution_count": null,
   "metadata": {},
   "outputs": [],
   "source": []
  }
 ],
 "metadata": {
  "kernelspec": {
   "display_name": "Python [conda env:LTPENV]",
   "language": "python",
   "name": "conda-env-LTPENV-py"
  },
  "language_info": {
   "codemirror_mode": {
    "name": "ipython",
    "version": 3
   },
   "file_extension": ".py",
   "mimetype": "text/x-python",
   "name": "python",
   "nbconvert_exporter": "python",
   "pygments_lexer": "ipython3",
   "version": "3.6.9"
  }
 },
 "nbformat": 4,
 "nbformat_minor": 2
}
