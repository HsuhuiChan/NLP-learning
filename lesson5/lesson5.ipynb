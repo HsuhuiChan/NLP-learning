{
 "cells": [
  {
   "cell_type": "markdown",
   "metadata": {},
   "source": [
    "# lesson5\n",
    "## search Tree --> Similar words"
   ]
  },
  {
   "cell_type": "code",
   "execution_count": 1,
   "metadata": {},
   "outputs": [],
   "source": [
    "import pandas as pd\n",
    "csv_path = 'D:/code_project/data/lesson5/test.csv'\n",
    "content = pd.read_csv(csv_path, encoding='utf8')\n",
    "content = content.fillna('') #fillna函数的作用是填充缺失值\n",
    "news_content = content['content'].tolist()\n"
   ]
  },
  {
   "cell_type": "code",
   "execution_count": 2,
   "metadata": {},
   "outputs": [],
   "source": [
    "import jieba \n",
    "import re\n",
    "\n",
    "def cut(string):\n",
    "    words = jieba.cut(string)\n",
    "    return ' '.join(words)\n",
    "\n",
    "def token(string): #找出所需要的内容\n",
    "    return re.findall(r'[\\d|\\w]+', string)\n"
   ]
  },
  {
   "cell_type": "code",
   "execution_count": 3,
   "metadata": {},
   "outputs": [
    {
     "data": {
      "text/plain": [
       "['this', 'is', '一个测试']"
      ]
     },
     "execution_count": 3,
     "metadata": {},
     "output_type": "execute_result"
    }
   ],
   "source": [
    "token('this is 一个测试\\n\\n\\n')"
   ]
  },
  {
   "cell_type": "code",
   "execution_count": 4,
   "metadata": {},
   "outputs": [
    {
     "name": "stderr",
     "output_type": "stream",
     "text": [
      "Building prefix dict from the default dictionary ...\n",
      "Loading model from cache C:\\Users\\HSUHUI~1\\AppData\\Local\\Temp\\jieba.cache\n",
      "Loading model cost 1.673 seconds.\n",
      "Prefix dict has been built succesfully.\n"
     ]
    }
   ],
   "source": [
    "news_content = [token(n) for n in news_content]  #删除非文本和数字的字符\n",
    "news_content = [' '.join(n) for n in news_content] #把子数组变成字符串，并用空格隔开\n",
    "news_content = [cut(n) for n in news_content]  #分词"
   ]
  },
  {
   "cell_type": "code",
   "execution_count": 5,
   "metadata": {},
   "outputs": [
    {
     "data": {
      "text/plain": [
       "'今天 我 买 了 一件 新 衣服'"
      ]
     },
     "execution_count": 5,
     "metadata": {},
     "output_type": "execute_result"
    }
   ],
   "source": [
    "news_content[0]"
   ]
  },
  {
   "cell_type": "code",
   "execution_count": 8,
   "metadata": {},
   "outputs": [],
   "source": [
    "import codecs\n",
    "f = codecs.open('D:/code_project/data/lesson5/new_sentence_cut.txt', 'w', encoding='utf-8')\n",
    "for n in news_content:\n",
    "    f.write(n)\n",
    "    f.write(u'\\r\\n')\n"
   ]
  },
  {
   "cell_type": "code",
   "execution_count": 9,
   "metadata": {},
   "outputs": [],
   "source": [
    "from gensim.models import Word2Vec\n",
    "from gensim.models.word2vec import LineSentence\n",
    "import multiprocessing\n",
    "infile = 'D:/code_project/data/lesson5/new_sentence_cut.txt'\n",
    "model1 =  Word2Vec(LineSentence(infile), size=30, window=5, min_count=1,\n",
    "                   workers=multiprocessing.cpu_count(), iter=20)\n"
   ]
  },
  {
   "cell_type": "code",
   "execution_count": 10,
   "metadata": {},
   "outputs": [
    {
     "name": "stderr",
     "output_type": "stream",
     "text": [
      "D:\\xuhui\\program64\\Anaconda\\envs\\pytorch\\lib\\site-packages\\ipykernel_launcher.py:1: DeprecationWarning: Call to deprecated `most_similar` (Method will be removed in 4.0.0, use self.wv.most_similar() instead).\n",
      "  \"\"\"Entry point for launching an IPython kernel.\n"
     ]
    },
    {
     "data": {
      "text/plain": [
       "[('来自', 0.5752336978912354), ('我', 0.19574882090091705)]"
      ]
     },
     "execution_count": 10,
     "metadata": {},
     "output_type": "execute_result"
    }
   ],
   "source": [
    "model1.most_similar(u'水杯', topn=2)"
   ]
  },
  {
   "cell_type": "markdown",
   "metadata": {},
   "source": [
    "### 由于语料库词汇少，所以构建的模型效果不好。下面的任务将使用lesson4中维基百科语料库训练好的模型来进行实验\n",
    "## 任务：输入一个词，搜索与该词相关的词"
   ]
  },
  {
   "cell_type": "code",
   "execution_count": 12,
   "metadata": {},
   "outputs": [],
   "source": [
    "import gensim\n",
    "model = gensim.models.Word2Vec.load('D:\\code_project\\data\\wiki_corpus\\model_generate\\wiki.zh.text.model')"
   ]
  },
  {
   "cell_type": "code",
   "execution_count": 15,
   "metadata": {},
   "outputs": [
    {
     "name": "stderr",
     "output_type": "stream",
     "text": [
      "D:\\xuhui\\program64\\Anaconda\\envs\\pytorch\\lib\\site-packages\\ipykernel_launcher.py:1: DeprecationWarning: Call to deprecated `most_similar` (Method will be removed in 4.0.0, use self.wv.most_similar() instead).\n",
      "  \"\"\"Entry point for launching an IPython kernel.\n"
     ]
    },
    {
     "data": {
      "text/plain": [
       "[('我国', 0.5835405588150024),\n",
       " ('中国政府', 0.5347201228141785),\n",
       " ('中华人民共和国', 0.532524824142456),\n",
       " ('欧美', 0.5277433395385742),\n",
       " ('境外', 0.519973874092102),\n",
       " ('外国', 0.4999949634075165),\n",
       " ('北京', 0.49076908826828003),\n",
       " ('中华人民共和国政府', 0.49053075909614563),\n",
       " ('东亚', 0.48363959789276123),\n",
       " ('国外', 0.4718197286128998)]"
      ]
     },
     "execution_count": 15,
     "metadata": {},
     "output_type": "execute_result"
    }
   ],
   "source": [
    "model.most_similar(u'中国',topn=10)"
   ]
  },
  {
   "cell_type": "code",
   "execution_count": null,
   "metadata": {},
   "outputs": [],
   "source": []
  },
  {
   "cell_type": "code",
   "execution_count": null,
   "metadata": {},
   "outputs": [],
   "source": [
    "from collections import defaultdict\n",
    "\n",
    "def get_related_words(initial_words, model=model):\n",
    "    \"\"\"\n",
    "     :initials_wards: the word we already know\n",
    "     :model: the word2vec model\n",
    "    \"\"\"\n",
    "    \n",
    "    unseen = initial_words\n",
    "    seen = defaultdict(int)\n",
    "    max_size = 50\n",
    "    while unseen and len(seen) < max_size:\n",
    "        if len(seen)%1 == 0:\n",
    "            print('seen length : {}'.format(len(seen)))\n",
    "            \n",
    "            node = unseen.pop(0)\n",
    "            new_expanding = [w for w,s in model.most_similar(node, topn=5)]\n",
    "            unseen += new_expanding\n",
    "            seen[node] += 1\n",
    "    # optimal: 1. score function could be revised\n",
    "    # optimal: 2. using dymanic programming to reduce computing time\n",
    "    return seen"
   ]
  },
  {
   "cell_type": "code",
   "execution_count": null,
   "metadata": {},
   "outputs": [],
   "source": [
    "len(model.wv.vocab)"
   ]
  },
  {
   "cell_type": "code",
   "execution_count": null,
   "metadata": {},
   "outputs": [],
   "source": [
    "related_words = get_related_words([u'中国',u'北京'],model)\n",
    "sorted(related_words.items(), key=lambda x:x[1], reverse=True)"
   ]
  },
  {
   "cell_type": "markdown",
   "metadata": {},
   "source": [
    "# TFIDF Key words"
   ]
  },
  {
   "cell_type": "code",
   "execution_count": 13,
   "metadata": {},
   "outputs": [
    {
     "data": {
      "text/plain": [
       "'今天 我 买 了 一件 新 衣服'"
      ]
     },
     "execution_count": 13,
     "metadata": {},
     "output_type": "execute_result"
    }
   ],
   "source": [
    "news_content[0]"
   ]
  },
  {
   "cell_type": "code",
   "execution_count": 21,
   "metadata": {},
   "outputs": [],
   "source": [
    "import math\n",
    "def tf(word, ducument):\n",
    "    \"\"\"\n",
    "    get the term frequency of the @word in the @ducument\n",
    "    \"\"\"\n",
    "    words = ducument.split()\n",
    "    return sum(1 for w in words if w==word)\n",
    "\n",
    "def idf(word, document_set):\n",
    "    \"\"\"\n",
    "    get the inverse ducument frequency\n",
    "    \"\"\"\n",
    "    number_of_total_document = len(document_set)\n",
    "    number_of_related_document = sum(1 for doc in document_set if word in doc)\n",
    "    return math.log10(number_of_total_document / number_of_related_document)\n",
    "    \n"
   ]
  },
  {
   "cell_type": "code",
   "execution_count": 22,
   "metadata": {},
   "outputs": [],
   "source": [
    "def get_keywords_of_a_document(document, document_set):\n",
    "    words = set(document.split())\n",
    "    tfidf = [(w, tf(w,document)*idf(w,document_set)) for w in words]\n",
    "    return sorted(tfidf, key=lambda x:x[1], reverse=True) # reverse=True降序, reverse=False升序(默认)\n",
    "    "
   ]
  },
  {
   "cell_type": "code",
   "execution_count": 24,
   "metadata": {},
   "outputs": [
    {
     "data": {
      "text/plain": [
       "[('今天', 0.6020599913279624),\n",
       " ('了', 0.6020599913279624),\n",
       " ('衣服', 0.6020599913279624),\n",
       " ('新', 0.6020599913279624),\n",
       " ('一件', 0.6020599913279624),\n",
       " ('买', 0.3010299956639812),\n",
       " ('我', 0.12493873660829993)]"
      ]
     },
     "execution_count": 24,
     "metadata": {},
     "output_type": "execute_result"
    }
   ],
   "source": [
    "news_keywords = get_keywords_of_a_document(news_content[0], news_content)\n",
    "news_keywords"
   ]
  },
  {
   "cell_type": "markdown",
   "metadata": {},
   "source": [
    "# WordCloud"
   ]
  },
  {
   "cell_type": "code",
   "execution_count": 27,
   "metadata": {},
   "outputs": [
    {
     "data": {
      "text/plain": [
       "<matplotlib.image.AxesImage at 0x20a940f6780>"
      ]
     },
     "execution_count": 27,
     "metadata": {},
     "output_type": "execute_result"
    },
    {
     "data": {
      "image/png": "[encoded data removed]",
      "text/plain": [
       "<Figure size 432x288 with 1 Axes>"
      ]
     },
     "metadata": {
      "needs_background": "light"
     },
     "output_type": "display_data"
    }
   ],
   "source": [
    "import wordcloud\n",
    "import matplotlib.pyplot as plt\n",
    "%matplotlib inline\n",
    "from collections import defaultdict\n",
    "news_words_dict = defaultdict(None)\n",
    "news_words_dict.update({w:score for w,score in news_keywords})\n",
    "\n",
    "wc = wordcloud.WordCloud(font_path='C:/Windows/Fonts/simkai.ttf')\n",
    "wc.generate_from_frequencies(news_words_dict)\n",
    "\n",
    "plt.figure(1)\n",
    "plt.imshow(wc)"
   ]
  },
  {
   "cell_type": "code",
   "execution_count": 32,
   "metadata": {},
   "outputs": [
    {
     "data": {
      "text/plain": [
       "<matplotlib.image.AxesImage at 0x20a94978cf8>"
      ]
     },
     "execution_count": 32,
     "metadata": {},
     "output_type": "execute_result"
    },
    {
     "data": {
      "image/png": "[encoded data removed]",
      "text/plain": [
       "<Figure size 432x288 with 1 Axes>"
      ]
     },
     "metadata": {
      "needs_background": "light"
     },
     "output_type": "display_data"
    }
   ],
   "source": [
    "from PIL import Image\n",
    "import numpy as np\n",
    "mask_of_this_wc = np.array(Image.open('D:/code_project/data/wordcloudData/xila_scenery.jpg'))\n",
    "wc_with_mask = wordcloud.WordCloud(background_color='white',\n",
    "                                   font_path='C:/Windows/Fonts/simkai.ttf',\n",
    "                                   mask=mask_of_this_wc)\n",
    "wc_with_mask.generate_from_frequencies(news_words_dict)\n",
    "plt.figure(2)\n",
    "plt.imshow(wc_with_mask)"
   ]
  },
  {
   "cell_type": "markdown",
   "metadata": {},
   "source": [
    "# TFIDF Vectorizer (tdodf 矢量化程序）"
   ]
  },
  {
   "cell_type": "code",
   "execution_count": 58,
   "metadata": {},
   "outputs": [
    {
     "name": "stdout",
     "output_type": "stream",
     "text": [
      "[[0.         0.57735027 0.         0.57735027 0.         0.\n",
      "  0.         0.         0.         0.         0.57735027]\n",
      " [0.         0.         0.         0.         0.70710678 0.\n",
      "  0.         0.         0.70710678 0.         0.        ]\n",
      " [0.         0.         0.57735027 0.         0.         0.57735027\n",
      "  0.         0.57735027 0.         0.         0.        ]\n",
      " [0.57735027 0.         0.         0.         0.         0.\n",
      "  0.57735027 0.         0.         0.57735027 0.        ]]\n",
      "(4, 11)\n",
      "{'今天': 3, '一件': 1, '衣服': 10, '来自': 8, '北京大学': 4, '天气': 5, '晴朗': 7, '一天': 2, '水杯': 9, '好看': 6, '一个': 0}\n"
     ]
    }
   ],
   "source": [
    "from sklearn.feature_extraction.text import TfidfVectorizer\n",
    "vectorized = TfidfVectorizer(max_features=1000)\n",
    "tfidf_of_document = vectorized.fit_transform(news_content)\n",
    "print(tfidf_of_document.toarray())\n",
    "print(tfidf_of_document.shape)\n",
    "print(vectorized.vocabulary_)"
   ]
  },
  {
   "cell_type": "markdown",
   "metadata": {},
   "source": [
    "### 文本相似度分析"
   ]
  },
  {
   "cell_type": "code",
   "execution_count": 59,
   "metadata": {},
   "outputs": [
    {
     "name": "stdout",
     "output_type": "stream",
     "text": [
      "[(0, 0.0), (1, 1.0), (2, 1.0), (3, 1.0)]\n"
     ]
    },
    {
     "data": {
      "text/plain": [
       "[(1, 1.0), (2, 1.0), (3, 1.0), (0, 0.0)]"
      ]
     },
     "execution_count": 59,
     "metadata": {},
     "output_type": "execute_result"
    }
   ],
   "source": [
    "import random\n",
    "from scipy.spatial.distance import cosine\n",
    "\n",
    "def distance(v1, v2):\n",
    "    return cosine(v1, v2)\n",
    "ducument_array = tfidf_of_document.toarray()\n",
    "document_need_check = ducument_array[0]\n",
    "distance_list = [(i,distance(ducument_array[i], document_need_check)) for i in range(len(ducument_array))]\n",
    "print(distance_list)\n",
    "sorted(distance_list, key=lambda x:x[1], reverse=True)\n"
   ]
  },
  {
   "cell_type": "markdown",
   "metadata": {},
   "source": [
    "# Build search engine (搜索引擎)"
   ]
  },
  {
   "cell_type": "code",
   "execution_count": 63,
   "metadata": {},
   "outputs": [],
   "source": [
    "def naive_search(keywords):\n",
    "    keywords = keywords.split()\n",
    "    news_ids = [i for i,cont in enumerate(news_content) if all(w in cont for w in keywords)]\n",
    "    return news_ids"
   ]
  },
  {
   "cell_type": "code",
   "execution_count": 69,
   "metadata": {},
   "outputs": [
    {
     "data": {
      "text/plain": [
       "[2]"
      ]
     },
     "execution_count": 69,
     "metadata": {},
     "output_type": "execute_result"
    }
   ],
   "source": [
    "#%%timeit\n",
    "naive_search('天气 晴朗')"
   ]
  },
  {
   "cell_type": "markdown",
   "metadata": {},
   "source": [
    "### input word --> which document contain this word"
   ]
  },
  {
   "cell_type": "code",
   "execution_count": null,
   "metadata": {},
   "outputs": [],
   "source": []
  },
  {
   "cell_type": "code",
   "execution_count": null,
   "metadata": {},
   "outputs": [],
   "source": []
  },
  {
   "cell_type": "code",
   "execution_count": null,
   "metadata": {},
   "outputs": [],
   "source": []
  },
  {
   "cell_type": "markdown",
   "metadata": {},
   "source": [
    "# PageRank"
   ]
  },
  {
   "cell_type": "code",
   "execution_count": null,
   "metadata": {},
   "outputs": [],
   "source": []
  }
 ],
 "metadata": {
  "kernelspec": {
   "display_name": "Python [conda env:pytorch]",
   "language": "python",
   "name": "conda-env-pytorch-py"
  },
  "language_info": {
   "codemirror_mode": {
    "name": "ipython",
    "version": 3
   },
   "file_extension": ".py",
   "mimetype": "text/x-python",
   "name": "python",
   "nbconvert_exporter": "python",
   "pygments_lexer": "ipython3",
   "version": "3.7.3"
  }
 },
 "nbformat": 4,
 "nbformat_minor": 2
}
