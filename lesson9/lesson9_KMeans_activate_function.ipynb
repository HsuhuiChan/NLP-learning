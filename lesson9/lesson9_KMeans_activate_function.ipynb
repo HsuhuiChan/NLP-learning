{
 "cells": [
  {
   "cell_type": "markdown",
   "metadata": {},
   "source": [
    "# A simple example of kmeans"
   ]
  },
  {
   "cell_type": "code",
   "execution_count": 2,
   "metadata": {},
   "outputs": [
    {
     "data": {
      "text/plain": [
       "<matplotlib.collections.PathCollection at 0x1b9ab424a20>"
      ]
     },
     "execution_count": 2,
     "metadata": {},
     "output_type": "execute_result"
    },
    {
     "data": {
      "image/png": "[encoded data removed]",
      "text/plain": [
       "<Figure size 432x288 with 1 Axes>"
      ]
     },
     "metadata": {
      "needs_background": "light"
     },
     "output_type": "display_data"
    }
   ],
   "source": [
    "from sklearn.cluster import KMeans\n",
    "from matplotlib import pyplot as plt\n",
    "import random\n",
    "%matplotlib inline\n",
    "\n",
    "X = [random.randint(0,100) for _ in range(100)]\n",
    "Y = [random.randint(0,100) for _ in range(100)]\n",
    "\n",
    "plt.scatter(X,Y)"
   ]
  },
  {
   "cell_type": "code",
   "execution_count": 4,
   "metadata": {},
   "outputs": [
    {
     "data": {
      "text/plain": [
       "KMeans(algorithm='auto', copy_x=True, init='k-means++', max_iter=100,\n",
       "       n_clusters=6, n_init=10, n_jobs=None, precompute_distances='auto',\n",
       "       random_state=None, tol=0.0001, verbose=0)"
      ]
     },
     "execution_count": 4,
     "metadata": {},
     "output_type": "execute_result"
    }
   ],
   "source": [
    "trainning_data = [[x,y] for x,y in zip(X,Y)]\n",
    "cluster = KMeans(n_clusters=6, max_iter=100)\n",
    "cluster.fit(trainning_data)"
   ]
  },
  {
   "cell_type": "code",
   "execution_count": 5,
   "metadata": {},
   "outputs": [
    {
     "data": {
      "text/plain": [
       "array([[54.33333333, 83.53333333],\n",
       "       [76.15      , 27.25      ],\n",
       "       [26.1875    , 38.3125    ],\n",
       "       [17.41176471, 81.82352941],\n",
       "       [83.21052632, 69.10526316],\n",
       "       [20.46153846, 10.23076923]])"
      ]
     },
     "execution_count": 5,
     "metadata": {},
     "output_type": "execute_result"
    }
   ],
   "source": [
    "cluster.cluster_centers_"
   ]
  },
  {
   "cell_type": "code",
   "execution_count": 6,
   "metadata": {},
   "outputs": [
    {
     "data": {
      "text/plain": [
       "array([0, 2, 0, 2, 5, 4, 1, 3, 5, 1, 1, 3, 2, 3, 3, 1, 1, 0, 2, 1, 3, 1,\n",
       "       4, 5, 3, 1, 0, 3, 2, 3, 4, 4, 4, 2, 5, 3, 3, 4, 2, 0, 5, 1, 1, 0,\n",
       "       2, 2, 5, 1, 0, 1, 2, 1, 1, 3, 4, 1, 4, 0, 3, 5, 2, 0, 0, 4, 4, 5,\n",
       "       4, 1, 2, 3, 0, 0, 4, 1, 5, 1, 2, 3, 4, 5, 2, 5, 3, 0, 2, 4, 1, 4,\n",
       "       3, 1, 4, 4, 0, 2, 5, 5, 4, 4, 3, 0])"
      ]
     },
     "execution_count": 6,
     "metadata": {},
     "output_type": "execute_result"
    }
   ],
   "source": [
    "cluster.labels_"
   ]
  },
  {
   "cell_type": "code",
   "execution_count": 17,
   "metadata": {},
   "outputs": [],
   "source": [
    "from collections import defaultdict\n",
    "centers = defaultdict(list)\n",
    "centers_class = defaultdict(list)\n",
    "\n",
    "for label, location in zip(cluster.labels_, trainning_data):\n",
    "    centers_class[label].append(location)\n",
    "\n",
    "for label, center in zip([0,1,2,3,4,5],cluster.cluster_centers_):\n",
    "    centers[label]=center"
   ]
  },
  {
   "cell_type": "code",
   "execution_count": 18,
   "metadata": {},
   "outputs": [
    {
     "data": {
      "image/png": "[encoded data removed]",
      "text/plain": [
       "<Figure size 432x288 with 1 Axes>"
      ]
     },
     "metadata": {
      "needs_background": "light"
     },
     "output_type": "display_data"
    }
   ],
   "source": [
    "color = ['red', 'green', 'grey', 'black', 'yellow', 'orange']\n",
    "\n",
    "plt.figure(2)\n",
    "for i,key in enumerate(centers_class):\n",
    "    for location in centers_class[key]:\n",
    "        plt.scatter(*location, c=color[i])\n",
    "\n",
    "for i,key in enumerate(centers):\n",
    "    plt.scatter(*centers[key], s=200, c=color[i])"
   ]
  },
  {
   "cell_type": "markdown",
   "metadata": {},
   "source": [
    "# Activation Function"
   ]
  },
  {
   "cell_type": "code",
   "execution_count": 19,
   "metadata": {},
   "outputs": [],
   "source": [
    "def relu(x):\n",
    "    return x if x>0 else 0"
   ]
  },
  {
   "cell_type": "code",
   "execution_count": 21,
   "metadata": {},
   "outputs": [],
   "source": [
    "import matplotlib.pyplot as plt\n",
    "%matplotlib inline\n",
    "\n",
    "def linear():\n",
    "    w,b = random.randint(-100,100), random.randint(-100,100)\n",
    "    def _wrap(x):\n",
    "        return w*x+b\n",
    "    return _wrap"
   ]
  },
  {
   "cell_type": "code",
   "execution_count": 22,
   "metadata": {},
   "outputs": [],
   "source": [
    "import random\n",
    "import numpy as np\n",
    "\n",
    "X = np.linspace(-1000, 1000, 4000)"
   ]
  },
  {
   "cell_type": "code",
   "execution_count": 23,
   "metadata": {},
   "outputs": [
    {
     "data": {
      "text/plain": [
       "array([-1000.        ,  -999.49987497,  -998.99974994, ...,\n",
       "         998.99974994,   999.49987497,  1000.        ])"
      ]
     },
     "execution_count": 23,
     "metadata": {},
     "output_type": "execute_result"
    }
   ],
   "source": [
    "X"
   ]
  },
  {
   "cell_type": "code",
   "execution_count": 24,
   "metadata": {},
   "outputs": [],
   "source": [
    "L = linear()"
   ]
  },
  {
   "cell_type": "code",
   "execution_count": 30,
   "metadata": {},
   "outputs": [],
   "source": [
    "def sigmoid(x):\n",
    "    return 1 / (1 + np.exp(-x))"
   ]
  },
  {
   "cell_type": "code",
   "execution_count": 31,
   "metadata": {},
   "outputs": [
    {
     "data": {
      "text/plain": [
       "0.7310585786300049"
      ]
     },
     "execution_count": 31,
     "metadata": {},
     "output_type": "execute_result"
    }
   ],
   "source": [
    "sigmoid(1)"
   ]
  },
  {
   "cell_type": "code",
   "execution_count": 34,
   "metadata": {},
   "outputs": [],
   "source": [
    "def add_1(x):\n",
    "    return x+1\n",
    "\n",
    "def add_2(x):\n",
    "    return x+2\n",
    "\n",
    "from functools import reduce\n",
    "\n",
    "initial = 0\n",
    "\n",
    "def chain(funcs, x):\n",
    "    last_value = funcs[0](x)\n",
    "    if len(funcs)==1: return last_value\n",
    "    else:\n",
    "        return chain(funcs[1:], last_value)"
   ]
  },
  {
   "cell_type": "code",
   "execution_count": 35,
   "metadata": {},
   "outputs": [
    {
     "data": {
      "text/plain": [
       "6"
      ]
     },
     "execution_count": 35,
     "metadata": {},
     "output_type": "execute_result"
    }
   ],
   "source": [
    "chain([add_1, add_2, add_2, add_1], 0)"
   ]
  },
  {
   "cell_type": "code",
   "execution_count": 36,
   "metadata": {},
   "outputs": [],
   "source": [
    "def tanh(x):\n",
    "    return np.tanh(x)"
   ]
  },
  {
   "cell_type": "code",
   "execution_count": 44,
   "metadata": {},
   "outputs": [],
   "source": [
    "computing_chain = [linear(), relu, linear(), relu, linear(), relu]\n",
    "Y = [chain(computing_chain, x) for x in X]"
   ]
  },
  {
   "cell_type": "code",
   "execution_count": 45,
   "metadata": {},
   "outputs": [
    {
     "data": {
      "text/plain": [
       "[<matplotlib.lines.Line2D at 0x1b9ad0ccb38>]"
      ]
     },
     "execution_count": 45,
     "metadata": {},
     "output_type": "execute_result"
    },
    {
     "data": {
      "image/png": "[encoded data removed]",
      "text/plain": [
       "<Figure size 432x288 with 1 Axes>"
      ]
     },
     "metadata": {
      "needs_background": "light"
     },
     "output_type": "display_data"
    }
   ],
   "source": [
    "plt.plot(X,Y)"
   ]
  },
  {
   "cell_type": "code",
   "execution_count": null,
   "metadata": {},
   "outputs": [],
   "source": []
  }
 ],
 "metadata": {
  "kernelspec": {
   "display_name": "Python [conda env:pytorch]",
   "language": "python",
   "name": "conda-env-pytorch-py"
  },
  "language_info": {
   "codemirror_mode": {
    "name": "ipython",
    "version": 3
   },
   "file_extension": ".py",
   "mimetype": "text/x-python",
   "name": "python",
   "nbconvert_exporter": "python",
   "pygments_lexer": "ipython3",
   "version": "3.7.3"
  }
 },
 "nbformat": 4,
 "nbformat_minor": 2
}
