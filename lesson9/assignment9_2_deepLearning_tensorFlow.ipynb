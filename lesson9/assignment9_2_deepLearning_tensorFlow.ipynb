{
 "cells": [
  {
   "cell_type": "markdown",
   "metadata": {},
   "source": [
    "# Assignment 2\n",
    "Previously in assignment9_1_notmnist.ipynb, we created a pickle with formatted datasets for training, development and testing on the notMNIST dataset.\n",
    "\n",
    "The goal of this assignment is to progressively train deeper and more accurate models using TensorFlow."
   ]
  },
  {
   "cell_type": "markdown",
   "metadata": {},
   "source": [
    "#### 学习使用TensorFlow"
   ]
  },
  {
   "cell_type": "code",
   "execution_count": 2,
   "metadata": {},
   "outputs": [],
   "source": [
    "# these are all the modules we'll be using later. Make sure you can import them\n",
    "from __future__ import print_function\n",
    "import numpy as np\n",
    "import tensorflow as tf\n",
    "from six.moves import cPickle as pickle\n",
    "from six.moves import range"
   ]
  },
  {
   "cell_type": "code",
   "execution_count": null,
   "metadata": {},
   "outputs": [],
   "source": []
  },
  {
   "cell_type": "code",
   "execution_count": 1,
   "metadata": {},
   "outputs": [
    {
     "data": {
      "text/plain": [
       "'C:\\\\Users\\\\HsuhuiChan\\\\mypython\\\\NLP_course'"
      ]
     },
     "execution_count": 1,
     "metadata": {},
     "output_type": "execute_result"
    }
   ],
   "source": [
    "pwd"
   ]
  },
  {
   "cell_type": "markdown",
   "metadata": {},
   "source": [
    "#### First reload the data we generated in assignment9_1_notmnist.ipynb.\n",
    "#### 重载数据"
   ]
  },
  {
   "cell_type": "code",
   "execution_count": 52,
   "metadata": {},
   "outputs": [
    {
     "name": "stdout",
     "output_type": "stream",
     "text": [
      "Training set: (2000, 28, 28) (2000,)\n",
      "Validation set: (100, 28, 28) (100,)\n",
      "Test set: (100, 28, 28) (100,)\n"
     ]
    }
   ],
   "source": [
    "pickle_file = 'D:\\\\code_project\\\\datasource\\\\notMNIST\\\\notMNIST.pickle'\n",
    "\n",
    "with open(pickle_file, 'rb') as f:\n",
    "    save = pickle.load(f)\n",
    "    train_dataset = save['train_dataset']\n",
    "    train_labels = save['train_labels']\n",
    "    valid_dataset = save['valid_dataset']\n",
    "    valid_labels = save['valid_labels']\n",
    "    test_dataset = save['test_dataset']\n",
    "    test_labels = save['test_labels']\n",
    "f.close()   \n",
    "del save #hint: to help gc free up memory\n",
    "print('Training set:',train_dataset.shape, train_labels.shape)\n",
    "print('Validation set:', valid_dataset.shape, valid_labels.shape)\n",
    "print('Test set:', test_dataset.shape, test_labels.shape)"
   ]
  },
  {
   "cell_type": "markdown",
   "metadata": {},
   "source": [
    "Reformat into a shape that's more adapted to the models we're going to train:\n",
    "\n",
    "data as a flat matrix,\n",
    "labels as float 1-hot encodings."
   ]
  },
  {
   "cell_type": "markdown",
   "metadata": {},
   "source": [
    "#### 数据矩阵reshape"
   ]
  },
  {
   "cell_type": "code",
   "execution_count": 53,
   "metadata": {},
   "outputs": [],
   "source": [
    "image_size = 28\n",
    "num_labels = 10\n",
    "\n",
    "def reformat(dataset, labels):\n",
    "    dataset = dataset.reshape((-1, image_size * image_size)).astype(np.float32)\n",
    "    labels = labels.reshape((-1,1))\n",
    "    labels = np.array((np.arange(num_labels)==labels)).astype(np.float32)\n",
    "    return dataset, labels"
   ]
  },
  {
   "cell_type": "code",
   "execution_count": 54,
   "metadata": {},
   "outputs": [
    {
     "name": "stdout",
     "output_type": "stream",
     "text": [
      "Training set: (2000, 784) (2000, 10)\n",
      "Validation set: (100, 784) (100, 10)\n",
      "Test set: (100, 784) (100, 10)\n"
     ]
    }
   ],
   "source": [
    "train_dataset, train_labels = reformat(train_dataset, train_labels)\n",
    "valid_dataset, valid_labels = reformat(valid_dataset, valid_labels)\n",
    "test_dataset, test_labels = reformat(test_dataset, test_labels)\n",
    "print('Training set:',train_dataset.shape, train_labels.shape)\n",
    "print('Validation set:', valid_dataset.shape, valid_labels.shape)\n",
    "print('Test set:', test_dataset.shape, test_labels.shape)"
   ]
  },
  {
   "cell_type": "code",
   "execution_count": 55,
   "metadata": {},
   "outputs": [
    {
     "name": "stdout",
     "output_type": "stream",
     "text": [
      "[[False  True False]\n",
      " [False False  True]\n",
      " [ True False False]]\n"
     ]
    },
    {
     "data": {
      "text/plain": [
       "array([[0, 1, 0],\n",
       "       [0, 0, 1],\n",
       "       [1, 0, 0]])"
      ]
     },
     "execution_count": 55,
     "metadata": {},
     "output_type": "execute_result"
    }
   ],
   "source": [
    "# 观看这个用法\n",
    "aa = (np.arange(3)==[[1],[2],[0]])\n",
    "print(aa)\n",
    "np.array(aa).astype(int)"
   ]
  },
  {
   "cell_type": "markdown",
   "metadata": {},
   "source": [
    "We're first going to train a multinomial logistic regression using simple gradient descent.\n",
    "\n",
    "TensorFlow works like this:\n",
    "\n",
    ". First you describe the computation that you want to see performed: what the inputs, the variables, and the operations look like. These get created as nodes over a computation graph. This description is all contained within the block below:\n",
    "\n",
    "with graph.as_default():\n",
    "    ...\n",
    "    \n",
    ". Then you can run the operations on this graph as many times as you want by calling session.run(), providing it outputs to fetch from the graph that get returned. This runtime operation is all contained in the block below:\n",
    "\n",
    "with tf.Session(graph=graph) as session:\n",
    "    ...\n",
    "Let's load all the data into TensorFlow and build the computation graph corresponding to our training："
   ]
  },
  {
   "cell_type": "markdown",
   "metadata": {},
   "source": [
    "#### 用tensorflow训练简单的多项式回归"
   ]
  },
  {
   "cell_type": "code",
   "execution_count": 58,
   "metadata": {},
   "outputs": [],
   "source": [
    "# With gradient descent training, even this much data is prohibitive.\n",
    "# Subset the training data for faster turnaround.\n",
    "train_subset = 1000\n",
    "\n",
    "graph = tf.Graph()\n",
    "with graph.as_default():\n",
    "    # Input data.\n",
    "    # Load the training, validation and test data into constants that are\n",
    "    # attached to the graph.\n",
    "    tf_train_dataset = tf.constant(train_dataset[:train_subset, :])\n",
    "    tf_train_labels = tf.constant(train_labels[:train_subset])\n",
    "    tf_valid_dataset = tf.constant(valid_dataset)\n",
    "    tf_test_dataset = tf.constant(test_dataset)\n",
    "    \n",
    "    # Variables.\n",
    "    # These are the parameters that we are going to be training. The weight\n",
    "    # matrix will be initialized using random values following a (truncated)\n",
    "    # normal distribution. The biases get initialized to zero.\n",
    "    weights = tf.Variable(\n",
    "        tf.truncated_normal([image_size * image_size, num_labels])\n",
    "    )\n",
    "    biases = tf.Variable(tf.zeros([num_labels]))\n",
    "    \n",
    "    # Training computation.\n",
    "    # We multiply the inputs with the weight matrix, and add biases. We compute\n",
    "    # the softmax and cross-entropy (it's one operation in TensorFlow, because\n",
    "    # it's very common, and it can be optimized). We take the average of this\n",
    "    # cross-entropy across all training examples: that's our loss.\n",
    "    logits = tf.matmul(tf_train_dataset, weights) + biases\n",
    "    loss = tf.reduce_mean(\n",
    "    tf.nn.softmax_cross_entropy_with_logits(labels = tf_train_labels, logits = logits)\n",
    "    )\n",
    "    \n",
    "    # Optimizer.\n",
    "    # We are going to find the minimum of this loss using gradient descent.\n",
    "    optimizer = tf.train.GradientDescentOptimizer(0.5).minimize(loss)\n",
    "    \n",
    "    # Predictions for the training, validation, and test data.\n",
    "    # These are not part of training, but merely here so that we can report\n",
    "    # accuracy figures as we train.\n",
    "    train_prediction = tf.nn.softmax(logits)\n",
    "    valid_prediction = tf.nn.softmax(\n",
    "        tf.matmul(tf_valid_dataset, weights) + biases\n",
    "    )\n",
    "    test_prediction = tf.nn.softmax(tf.matmul(tf_test_dataset, weights) + biases )\n",
    "    "
   ]
  },
  {
   "cell_type": "markdown",
   "metadata": {},
   "source": [
    "Let's run this computation and iterate:"
   ]
  },
  {
   "cell_type": "code",
   "execution_count": 59,
   "metadata": {},
   "outputs": [
    {
     "name": "stdout",
     "output_type": "stream",
     "text": [
      "Initialized\n",
      "Loss at step 0: 15.729875\n",
      "Training accuracy: 11.5 %\n",
      "Validation accuracy: 10.0 %\n",
      "Test accuracy: 13.0 %\n",
      "Loss at step 10: 4.910938\n",
      "Training accuracy: 46.8 %\n",
      "Validation accuracy: 46.0 %\n",
      "Test accuracy: 49.0 %\n",
      "Loss at step 20: 3.361525\n",
      "Training accuracy: 60.3 %\n",
      "Validation accuracy: 56.0 %\n",
      "Test accuracy: 61.0 %\n",
      "Loss at step 30: 2.694463\n",
      "Training accuracy: 66.0 %\n",
      "Validation accuracy: 65.0 %\n",
      "Test accuracy: 61.0 %\n",
      "Loss at step 40: 2.304038\n",
      "Training accuracy: 68.9 %\n",
      "Validation accuracy: 66.0 %\n",
      "Test accuracy: 62.0 %\n",
      "Loss at step 50: 2.029300\n",
      "Training accuracy: 71.3 %\n",
      "Validation accuracy: 68.0 %\n",
      "Test accuracy: 64.0 %\n",
      "Loss at step 60: 1.820327\n",
      "Training accuracy: 72.9 %\n",
      "Validation accuracy: 68.0 %\n",
      "Test accuracy: 64.0 %\n",
      "Loss at step 70: 1.654011\n",
      "Training accuracy: 74.0 %\n",
      "Validation accuracy: 67.0 %\n",
      "Test accuracy: 68.0 %\n",
      "Loss at step 80: 1.518119\n",
      "Training accuracy: 76.1 %\n",
      "Validation accuracy: 67.0 %\n",
      "Test accuracy: 70.0 %\n",
      "Loss at step 90: 1.404334\n",
      "Training accuracy: 78.3 %\n",
      "Validation accuracy: 67.0 %\n",
      "Test accuracy: 69.0 %\n",
      "Loss at step 100: 1.305639\n",
      "Training accuracy: 79.5 %\n",
      "Validation accuracy: 68.0 %\n",
      "Test accuracy: 69.0 %\n"
     ]
    }
   ],
   "source": [
    "num_steps = 101\n",
    "\n",
    "def accuracy(predictions, labels):\n",
    "    return (100.0 * np.sum(np.argmax(predictions, 1) == np.argmax(labels,1)) \n",
    "            / predictions.shape[0])\n",
    "\n",
    "with tf.Session(graph = graph) as session:\n",
    "    # This is a one-time operation which ensures the parameters get initialized as\n",
    "    # we described in the graph: random weights for the matrix, zeros for the biases. \n",
    "    tf.global_variables_initializer().run()\n",
    "    print('Initialized')\n",
    "    \n",
    "    for step in range(num_steps):\n",
    "        # Run the computations. We tell .run() that we want to run the optimizer,\n",
    "        # and get the loss value and the training predictions returned as numpy arrays.\n",
    "        _, loss_i, predictions_i = session.run([optimizer, loss, train_prediction])\n",
    "        if (step %10 == 0):\n",
    "            print('Loss at step %d: %f' %(step, loss_i))\n",
    "            print('Training accuracy: %.1f %%' % accuracy(predictions_i, train_labels[:train_subset,:]))\n",
    "            # Calling .eval() on valid_prediction is basically like calling run(), but\n",
    "            # just to get that one numpy array. Note that it recomputes all its graph dependencies.\n",
    "            print('Validation accuracy: %.1f %%' %accuracy(valid_prediction.eval(), valid_labels))\n",
    "            print('Test accuracy: %.1f %%' %accuracy(test_prediction.eval(), test_labels ))\n"
   ]
  },
  {
   "cell_type": "markdown",
   "metadata": {},
   "source": [
    "Let's now switch to stochastic gradient descent training instead, which is much faster.\n",
    "\n",
    "The graph will be similar, except that instead of holding all the training data into a constant node, we create a Placeholder node which will be fed actual data at every call of session.run()."
   ]
  },
  {
   "cell_type": "markdown",
   "metadata": {},
   "source": [
    "#### 使用SGD训练,重新构建网络"
   ]
  },
  {
   "cell_type": "code",
   "execution_count": 62,
   "metadata": {},
   "outputs": [],
   "source": [
    "batch_size = 128\n",
    "\n",
    "graph = tf.Graph()\n",
    "with graph.as_default():\n",
    "    # Input data. For the training data, we use a placeholder that will be fed\n",
    "    # at run time with a training minibatch.\n",
    "    tf_train_dataset = tf.placeholder(tf.float32, shape=(batch_size, image_size* image_size))\n",
    "    tf_train_labels = tf.placeholder(tf.float32, shape=(batch_size, num_labels))\n",
    "    tf_valid_dataset = tf.constant(valid_dataset)\n",
    "    tf_test_dataset = tf.constant(test_dataset)\n",
    "    \n",
    "    # Variables.\n",
    "    weights = tf.Variable(tf.truncated_normal([image_size * image_size, num_labels]))\n",
    "    biases = tf.Variable(tf.zeros(num_labels))\n",
    "    \n",
    "    #Training computation\n",
    "    logits = tf.matmul(tf_train_dataset, weights) + biases\n",
    "    loss = tf.reduce_mean(tf.nn.softmax_cross_entropy_with_logits(labels=tf_train_labels, logits=logits))\n",
    "    \n",
    "    # Optimizer.\n",
    "    optimizer = tf.train.GradientDescentOptimizer(0.5).minimize(loss)\n",
    "    \n",
    "    # Predictions for the training, validation, and test data.\n",
    "    train_prediction = tf.nn.softmax(logits)\n",
    "    valid_prediction = tf.nn.softmax(tf.matmul(tf_valid_dataset, weights) + biases)\n",
    "    test_prediction = tf.nn.softmax(tf.matmul(tf_test_dataset, weights) + biases\n",
    "                                )"
   ]
  },
  {
   "cell_type": "markdown",
   "metadata": {},
   "source": [
    "Let's run it:"
   ]
  },
  {
   "cell_type": "code",
   "execution_count": 64,
   "metadata": {},
   "outputs": [
    {
     "name": "stdout",
     "output_type": "stream",
     "text": [
      "Initialized\n",
      "Minibatch loss at step 0: 17.763811\n",
      "Minibatch accuracy: 3.9 %\n",
      "Validation accuracy: 13.0 %\n",
      "Minibatch loss at step 10: 5.062395\n",
      "Minibatch accuracy: 43.0 %\n",
      "Validation accuracy: 37.0 %\n",
      "Minibatch loss at step 20: 4.370882\n",
      "Minibatch accuracy: 53.9 %\n",
      "Validation accuracy: 53.0 %\n",
      "Minibatch loss at step 30: 2.543247\n",
      "Minibatch accuracy: 64.8 %\n",
      "Validation accuracy: 56.0 %\n",
      "Minibatch loss at step 40: 2.870123\n",
      "Minibatch accuracy: 69.5 %\n",
      "Validation accuracy: 62.0 %\n",
      "Minibatch loss at step 50: 2.167030\n",
      "Minibatch accuracy: 71.9 %\n",
      "Validation accuracy: 66.0 %\n",
      "Minibatch loss at step 60: 2.503828\n",
      "Minibatch accuracy: 72.7 %\n",
      "Validation accuracy: 64.0 %\n",
      "Minibatch loss at step 70: 1.791514\n",
      "Minibatch accuracy: 75.0 %\n",
      "Validation accuracy: 66.0 %\n",
      "Minibatch loss at step 80: 1.983242\n",
      "Minibatch accuracy: 69.5 %\n",
      "Validation accuracy: 69.0 %\n",
      "Minibatch loss at step 90: 2.368526\n",
      "Minibatch accuracy: 74.2 %\n",
      "Validation accuracy: 70.0 %\n",
      "Minibatch loss at step 100: 1.870625\n",
      "Minibatch accuracy: 75.0 %\n",
      "Validation accuracy: 69.0 %\n",
      "Test accuracy: 78.0 %\n"
     ]
    }
   ],
   "source": [
    "num_steps = 101\n",
    "\n",
    "with tf.Session(graph=graph) as session:\n",
    "    tf.global_variables_initializer().run()\n",
    "    print('Initialized')\n",
    "    for step in range(num_steps):\n",
    "        # Pick an offset within the training data, which has been randomized.\n",
    "        # Note: we could use better randomization across epochs\n",
    "        offset = (step * batch_size) % (train_labels.shape[0] - batch_size)\n",
    "        \n",
    "        # Generate a minibatch\n",
    "        batch_data = train_dataset[offset: (offset + batch_size), :]\n",
    "        batch_labels = train_labels[offset: (offset + batch_size), :]\n",
    "        \n",
    "        # Prepare a dictionary telling the session where to feed the minibatch.\n",
    "        # The key of the dictionary is the placeholder node of the graph to be fed,\n",
    "        # and the value is the numpy array to feed to it.\n",
    "        feed_dict = {tf_train_dataset: batch_data, tf_train_labels: batch_labels}\n",
    "        _, loss_i, train_perdiction_i = session.run([optimizer, loss, train_prediction], feed_dict=feed_dict)\n",
    "        if (step%10 == 0):\n",
    "            print('Minibatch loss at step %d: %f' %(step, loss_i))\n",
    "            print('Minibatch accuracy: %.1f %%' %accuracy(train_perdiction_i, batch_labels))\n",
    "            print('Validation accuracy: %.1f %%' %accuracy(valid_prediction.eval(), valid_labels))\n",
    "    print('Test accuracy: %.1f %%' %accuracy(test_prediction.eval(), test_labels))"
   ]
  },
  {
   "cell_type": "markdown",
   "metadata": {},
   "source": [
    "# Problem\n",
    "Turn the logistic regression example with SGD into a 1-hidden layer neural network with rectified linear units nn.relu() and 1024 hidden nodes. This model should improve your validation / test accuracy."
   ]
  },
  {
   "cell_type": "code",
   "execution_count": null,
   "metadata": {},
   "outputs": [],
   "source": []
  }
 ],
 "metadata": {
  "kernelspec": {
   "display_name": "Python [conda env:pytorch]",
   "language": "python",
   "name": "conda-env-pytorch-py"
  },
  "language_info": {
   "codemirror_mode": {
    "name": "ipython",
    "version": 3
   },
   "file_extension": ".py",
   "mimetype": "text/x-python",
   "name": "python",
   "nbconvert_exporter": "python",
   "pygments_lexer": "ipython3",
   "version": "3.7.3"
  }
 },
 "nbformat": 4,
 "nbformat_minor": 2
}
