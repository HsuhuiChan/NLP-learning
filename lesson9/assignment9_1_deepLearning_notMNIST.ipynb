{
 "cells": [
  {
   "cell_type": "markdown",
   "metadata": {},
   "source": [
    "# First Step on Deep Learning Using Tensorflow"
   ]
  },
  {
   "cell_type": "markdown",
   "metadata": {},
   "source": [
    "## 数据的解压/pickle/shuffle/pickle,最后做出训练集/测试集/验证集，并保存为pickle格式"
   ]
  },
  {
   "cell_type": "markdown",
   "metadata": {},
   "source": [
    "上一层网络全部链接到下一层的网络，称作 fully-connected（全连接） 网络。\n",
    "\n",
    "在本次作业中，我们将使用经典数据集 mnist的升级版，notMNIST构建神经网络进行图像分类。\n",
    "\n",
    "本次作业，你需要完成1, 2, 3三个联系。 能够掌握：\n",
    "\n",
    "1. 数据预处理的知识\n",
    "2. 深度学习程序的构建方式\n",
    "3. 训练集、测试集、验证集\n",
    "4. 神经网络的基础知识\n",
    "5. 图计算网络\n",
    "6. 正则化"
   ]
  },
  {
   "cell_type": "markdown",
   "metadata": {},
   "source": [
    "## Assignment 1\n",
    "The objective of this assignment is to learn about simple data curation practices, and familiarize you with some of the data we'll be reusing later.\n",
    "\n",
    "This notebook uses the notMNIST dataset to be used with python experiments. This dataset is designed to look like the classic MNIST dataset, while looking a little more like real data: it's a harder task, and the data is a lot less 'clean' than MNIST."
   ]
  },
  {
   "cell_type": "markdown",
   "metadata": {},
   "source": [
    "### 导入模块"
   ]
  },
  {
   "cell_type": "code",
   "execution_count": 4,
   "metadata": {},
   "outputs": [],
   "source": [
    "# These are all the modules we'll be using later. Make sure you can import them\n",
    "\n",
    "from __future__ import print_function\n",
    "import imageio\n",
    "import matplotlib.pyplot as plt\n",
    "import numpy as np\n",
    "import os\n",
    "import sys\n",
    "import tarfile\n",
    "from IPython.display import display, Image\n",
    "from sklearn.linear_model import LogisticRegression\n",
    "from six.moves.urllib.request import urlretrieve\n",
    "from six.moves import cPickle as pickle\n",
    "%matplotlib inline"
   ]
  },
  {
   "cell_type": "markdown",
   "metadata": {},
   "source": [
    "First, we'll download the dataset to our local machine. The data consists of characters rendered in a variety of fonts on a 28x28 image. The labels are limited to 'A' through 'J' (10 classes). The training set has about 500k and the testset 19000 labeled examples. Given these sizes, it should be possible to train models quickly on any machine."
   ]
  },
  {
   "cell_type": "markdown",
   "metadata": {},
   "source": [
    "### 下载notMNIST数据集"
   ]
  },
  {
   "cell_type": "code",
   "execution_count": 6,
   "metadata": {},
   "outputs": [
    {
     "name": "stdout",
     "output_type": "stream",
     "text": [
      "Found and verified D:/code_project/datasource/notMNIST\\notMNIST_large.tar.gz\n",
      "Found and verified D:/code_project/datasource/notMNIST\\notMNIST_small.tar.gz\n"
     ]
    }
   ],
   "source": [
    "url = 'https://commondatastorage.googleapis.com/books1000/'\n",
    "last_percent_reported = None\n",
    "data_directory = 'D:/code_project/datasource/notMNIST' #store data path\n",
    "\n",
    "def download_progress_hook(count, blockSize, totalSize):\n",
    "    \"\"\"A hook to report the progress of a download. This is mostly intended for users with\n",
    "  slow internet connections. Reports every 5% change in download progress.\n",
    "  \"\"\"\n",
    "    global last_percent_reported\n",
    "    percent = int(count * blockSize *100/totalSize)\n",
    "    \n",
    "    if last_percent_reported != percent:\n",
    "        if percent % 5 == 0:\n",
    "            sys.stdout.write(\"%s%%\" %percent)\n",
    "            sys.stdout.flush()\n",
    "        else:\n",
    "            sys.stdout.write(\".\")\n",
    "            sys.stdout.flush()\n",
    "            \n",
    "        last_percent_reported = percent\n",
    "\n",
    "        \n",
    "\n",
    "def maybe_download(filename, expected_bytes, force=False):\n",
    "    \"\"\"Download a file if not present, and make sure it's the right size.\"\"\"\n",
    "    \n",
    "    dest_filename = os.path.join(data_directory, filename)\n",
    "    if force or not os.path.exists(dest_filename):\n",
    "        print('Attempting to download: ',filename)\n",
    "        filename, _ = urlretrieve(url + filename, dest_filename, reporthook=download_progress_hook)\n",
    "        print('\\n Download complete!')\n",
    "    \n",
    "    statinfo = os.stat(dest_filename)\n",
    "    if statinfo.st_size == expected_bytes:\n",
    "        print('Found and verified', dest_filename)\n",
    "    else:\n",
    "        raise Exception('Failed to verify' + dest_filename + '. Can you get to it with a browser?')\n",
    "    \n",
    "    return dest_filename\n",
    "\n",
    "\n",
    "train_filename = maybe_download('notMNIST_large.tar.gz', 247336696)\n",
    "test_filename = maybe_download(\"notMNIST_small.tar.gz\", 8458043)"
   ]
  },
  {
   "cell_type": "markdown",
   "metadata": {},
   "source": [
    "Extract the dataset from the compressed .tar.gz file. This should give you a set of directories, labeled A through J."
   ]
  },
  {
   "cell_type": "markdown",
   "metadata": {},
   "source": [
    "### 解压缩数据集"
   ]
  },
  {
   "cell_type": "code",
   "execution_count": 7,
   "metadata": {},
   "outputs": [
    {
     "name": "stdout",
     "output_type": "stream",
     "text": [
      "D:/code_project/datasource/notMNIST\\notMNIST_large already present - skipping extraction of D:/code_project/datasource/notMNIST\\notMNIST_large.tar.gz\n",
      "['D:/code_project/datasource/notMNIST\\\\notMNIST_large\\\\A', 'D:/code_project/datasource/notMNIST\\\\notMNIST_large\\\\B', 'D:/code_project/datasource/notMNIST\\\\notMNIST_large\\\\C', 'D:/code_project/datasource/notMNIST\\\\notMNIST_large\\\\D', 'D:/code_project/datasource/notMNIST\\\\notMNIST_large\\\\E', 'D:/code_project/datasource/notMNIST\\\\notMNIST_large\\\\F', 'D:/code_project/datasource/notMNIST\\\\notMNIST_large\\\\G', 'D:/code_project/datasource/notMNIST\\\\notMNIST_large\\\\H', 'D:/code_project/datasource/notMNIST\\\\notMNIST_large\\\\I', 'D:/code_project/datasource/notMNIST\\\\notMNIST_large\\\\J']\n",
      "D:/code_project/datasource/notMNIST\\notMNIST_small already present - skipping extraction of D:/code_project/datasource/notMNIST\\notMNIST_small.tar.gz\n",
      "['D:/code_project/datasource/notMNIST\\\\notMNIST_small\\\\A', 'D:/code_project/datasource/notMNIST\\\\notMNIST_small\\\\B', 'D:/code_project/datasource/notMNIST\\\\notMNIST_small\\\\C', 'D:/code_project/datasource/notMNIST\\\\notMNIST_small\\\\D', 'D:/code_project/datasource/notMNIST\\\\notMNIST_small\\\\E', 'D:/code_project/datasource/notMNIST\\\\notMNIST_small\\\\F', 'D:/code_project/datasource/notMNIST\\\\notMNIST_small\\\\G', 'D:/code_project/datasource/notMNIST\\\\notMNIST_small\\\\H', 'D:/code_project/datasource/notMNIST\\\\notMNIST_small\\\\I', 'D:/code_project/datasource/notMNIST\\\\notMNIST_small\\\\J']\n"
     ]
    }
   ],
   "source": [
    "num_classes = 10\n",
    "np.random.seed(133)\n",
    "\n",
    "def maybe_extract(filename, force=False):\n",
    "    root = os.path.splitext(os.path.splitext(filename)[0])[0] #splitext会将文件名和拓展名分开，这里是删除 .tar.gz后缀\n",
    "    if os.path.isdir(root) and not force:\n",
    "        # You may override by setting force=True.\n",
    "        print('%s already present - skipping extraction of %s' %(root, filename))\n",
    "    else:\n",
    "        print('extracting data for %s. This may take a while. Please wait.' %root)\n",
    "        tar = tarfile.open(filename)\n",
    "        sys.stdout.flush()\n",
    "        tar.extractall(data_directory)\n",
    "        tar.close()\n",
    "    \n",
    "    data_folders = [\n",
    "        os.path.join(root, d) for d in sorted(os.listdir(root)) \n",
    "        if os.path.isdir(os.path.join(root,d))\n",
    "    ]\n",
    "    \n",
    "    if len(data_folders) != num_classes:\n",
    "        raise Exception(\n",
    "        'Excepted %d folders, one per class. Found %d instead.' %(num_classes, len(data_folders))\n",
    "        )\n",
    "    \n",
    "    print(data_folders)\n",
    "    return data_folders\n",
    "\n",
    "train_folders = maybe_extract(train_filename)\n",
    "test_folders = maybe_extract(test_filename)"
   ]
  },
  {
   "cell_type": "code",
   "execution_count": null,
   "metadata": {},
   "outputs": [],
   "source": []
  },
  {
   "cell_type": "markdown",
   "metadata": {},
   "source": [
    "# Problem 1"
   ]
  },
  {
   "cell_type": "markdown",
   "metadata": {},
   "source": [
    "Let's take a peek at some of the data to make sure it looks sensible. Each exemplar should be an image of a character A through J rendered in a different font. Display a sample of the images that we just downloaded. Hint: you can use the package IPython.display.\n",
    "\n"
   ]
  },
  {
   "cell_type": "markdown",
   "metadata": {},
   "source": [
    "Now let's load the data in a more manageable format. Since, depending on your computer setup you might not be able to fit it all in memory, we'll load each class into a separate dataset, store them on disk and curate them independently. Later we'll merge them into a single dataset of manageable size.\n",
    "\n",
    "We'll convert the entire dataset into a 3D array (image index, x, y) of floating point values, normalized to have approximately zero mean and standard deviation ~0.5 to make training easier down the road.\n",
    "\n",
    "A few images might not be readable, we'll just skip them."
   ]
  },
  {
   "cell_type": "markdown",
   "metadata": {},
   "source": [
    "### 数据量太大无法全部读取到内存中，分批读取数据\n",
    "\n",
    "显示一个图片样本"
   ]
  },
  {
   "cell_type": "markdown",
   "metadata": {},
   "source": [
    "#### 将这个字母下的所有图片转换为一个三维数组"
   ]
  },
  {
   "cell_type": "code",
   "execution_count": 8,
   "metadata": {},
   "outputs": [],
   "source": [
    "image_size = 28  #Pixel width and height.\n",
    "pixel_depth = 255.0  # Number of levels per pixel\n",
    "\n",
    "def load_letter(folder, min_num_image):\n",
    "    \"\"\"\n",
    "    Load the data for a single letter label.\n",
    "    \"\"\"\n",
    "    image_files =os.listdir(folder)\n",
    "    dataset = np.ndarray(shape=(len(image_files), image_size, image_size), dtype=np.float32)\n",
    "    print(folder)\n",
    "    num_image = 0\n",
    "    for image in image_files:\n",
    "        image_file = os.path.join(folder, image)\n",
    "        try:\n",
    "            image_data = (imageio.imread(image_file).astype(float) - pixel_depth/2) / pixel_depth\n",
    "            if image_data.shape != (image_size, image_size):\n",
    "                raise Exception('Unexpected image shape: %s' %str(image_data.shape))\n",
    "            \n",
    "            dataset[num_image,:,:] = image_data\n",
    "            num_image = num_image + 1\n",
    "        \n",
    "        except (IOError, ValueError) as e:\n",
    "            print('Could not read:', image_file, ':', e, '-it\\'s ok, skipping.')\n",
    "    \n",
    "    dataset = dataset[0:num_image,:,:]\n",
    "    if num_image < min_num_image:\n",
    "        raise Exception('Many fewer images than excepted: %d < %d' %(num_image, min_num_image))\n",
    "    \n",
    "    print('Full dataset tensor:', dataset.shape)\n",
    "    print('Mean:', np.mean(dataset))\n",
    "    print('Standard deviation:', np.std(dataset))\n",
    "    return dataset"
   ]
  },
  {
   "cell_type": "markdown",
   "metadata": {},
   "source": [
    "#### pickle化数据"
   ]
  },
  {
   "cell_type": "code",
   "execution_count": 9,
   "metadata": {},
   "outputs": [],
   "source": [
    "def maybe_pickle(data_folders, min_num_images_per_class, force=False):\n",
    "    \"\"\"\n",
    "    将所有的图片按照字母类别转换格式，每种字母转换为1个pickle类型\n",
    "    \"\"\"\n",
    "    dataset_names = []\n",
    "    for folder in data_folders:\n",
    "        set_filename = folder + '.pickle'\n",
    "        dataset_names.append(set_filename)\n",
    "        if os.path.exists(set_filename) and not force:\n",
    "            # You may override by setting force=True\n",
    "            print('%s already present - Skipping pickling.' % set_filename)\n",
    "        else:\n",
    "            print('Pickling %s.' % set_filename)\n",
    "            dataset = load_letter(folder, min_num_images_per_class)\n",
    "            try:\n",
    "                with open(set_filename,'wb') as f:\n",
    "                    pickle.dump(dataset, f, pickle.HIGHEST_PROTOCOL)\n",
    "            except Exception as e:\n",
    "                print('Unalbe to save data to ', set_filename, ':', e)\n",
    "    return dataset_names"
   ]
  },
  {
   "cell_type": "code",
   "execution_count": 10,
   "metadata": {},
   "outputs": [
    {
     "name": "stdout",
     "output_type": "stream",
     "text": [
      "D:/code_project/datasource/notMNIST\\notMNIST_large\\A.pickle already present - Skipping pickling.\n",
      "D:/code_project/datasource/notMNIST\\notMNIST_large\\B.pickle already present - Skipping pickling.\n",
      "D:/code_project/datasource/notMNIST\\notMNIST_large\\C.pickle already present - Skipping pickling.\n",
      "D:/code_project/datasource/notMNIST\\notMNIST_large\\D.pickle already present - Skipping pickling.\n",
      "D:/code_project/datasource/notMNIST\\notMNIST_large\\E.pickle already present - Skipping pickling.\n",
      "D:/code_project/datasource/notMNIST\\notMNIST_large\\F.pickle already present - Skipping pickling.\n",
      "D:/code_project/datasource/notMNIST\\notMNIST_large\\G.pickle already present - Skipping pickling.\n",
      "D:/code_project/datasource/notMNIST\\notMNIST_large\\H.pickle already present - Skipping pickling.\n",
      "D:/code_project/datasource/notMNIST\\notMNIST_large\\I.pickle already present - Skipping pickling.\n",
      "D:/code_project/datasource/notMNIST\\notMNIST_large\\J.pickle already present - Skipping pickling.\n",
      "D:/code_project/datasource/notMNIST\\notMNIST_small\\A.pickle already present - Skipping pickling.\n",
      "D:/code_project/datasource/notMNIST\\notMNIST_small\\B.pickle already present - Skipping pickling.\n",
      "D:/code_project/datasource/notMNIST\\notMNIST_small\\C.pickle already present - Skipping pickling.\n",
      "D:/code_project/datasource/notMNIST\\notMNIST_small\\D.pickle already present - Skipping pickling.\n",
      "D:/code_project/datasource/notMNIST\\notMNIST_small\\E.pickle already present - Skipping pickling.\n",
      "D:/code_project/datasource/notMNIST\\notMNIST_small\\F.pickle already present - Skipping pickling.\n",
      "D:/code_project/datasource/notMNIST\\notMNIST_small\\G.pickle already present - Skipping pickling.\n",
      "D:/code_project/datasource/notMNIST\\notMNIST_small\\H.pickle already present - Skipping pickling.\n",
      "D:/code_project/datasource/notMNIST\\notMNIST_small\\I.pickle already present - Skipping pickling.\n",
      "D:/code_project/datasource/notMNIST\\notMNIST_small\\J.pickle already present - Skipping pickling.\n"
     ]
    }
   ],
   "source": [
    "train_datasets_name = maybe_pickle(train_folders, 45000)\n",
    "test_datasets_name = maybe_pickle(test_folders,1800)"
   ]
  },
  {
   "cell_type": "code",
   "execution_count": 11,
   "metadata": {},
   "outputs": [
    {
     "data": {
      "text/plain": [
       "['D:/code_project/datasource/notMNIST\\\\notMNIST_large\\\\A.pickle',\n",
       " 'D:/code_project/datasource/notMNIST\\\\notMNIST_large\\\\B.pickle',\n",
       " 'D:/code_project/datasource/notMNIST\\\\notMNIST_large\\\\C.pickle',\n",
       " 'D:/code_project/datasource/notMNIST\\\\notMNIST_large\\\\D.pickle',\n",
       " 'D:/code_project/datasource/notMNIST\\\\notMNIST_large\\\\E.pickle',\n",
       " 'D:/code_project/datasource/notMNIST\\\\notMNIST_large\\\\F.pickle',\n",
       " 'D:/code_project/datasource/notMNIST\\\\notMNIST_large\\\\G.pickle',\n",
       " 'D:/code_project/datasource/notMNIST\\\\notMNIST_large\\\\H.pickle',\n",
       " 'D:/code_project/datasource/notMNIST\\\\notMNIST_large\\\\I.pickle',\n",
       " 'D:/code_project/datasource/notMNIST\\\\notMNIST_large\\\\J.pickle']"
      ]
     },
     "execution_count": 11,
     "metadata": {},
     "output_type": "execute_result"
    }
   ],
   "source": [
    "train_datasets_name"
   ]
  },
  {
   "cell_type": "markdown",
   "metadata": {},
   "source": [
    "# Problem 2\n",
    "\n",
    "Let's verify that the data still looks good. Displaying a sample of the labels and images from the ndarray. Hint: you can use matplotlib.pyplot."
   ]
  },
  {
   "cell_type": "markdown",
   "metadata": {},
   "source": [
    "#### 验证数据经过pickle之后是否还有效，即反pickle"
   ]
  },
  {
   "cell_type": "code",
   "execution_count": 12,
   "metadata": {},
   "outputs": [
    {
     "data": {
      "text/plain": [
       "<matplotlib.image.AxesImage at 0x225fdfdbf60>"
      ]
     },
     "execution_count": 12,
     "metadata": {},
     "output_type": "execute_result"
    },
    {
     "data": {
      "image/png": "[encoded data removed]",
      "text/plain": [
       "<Figure size 432x288 with 1 Axes>"
      ]
     },
     "metadata": {
      "needs_background": "light"
     },
     "output_type": "display_data"
    }
   ],
   "source": [
    "import matplotlib.pyplot as plt\n",
    "%matplotlib inline\n",
    "\n",
    "file = 'D:\\\\code_project\\\\datasource\\\\notMNIST\\\\notMNIST_small\\\\C.pickle'\n",
    "with open(file,'rb') as f:\n",
    "    letter_load = pickle.load(f)\n",
    "\n",
    "\n",
    "plt.imshow(letter_load[0])"
   ]
  },
  {
   "cell_type": "code",
   "execution_count": null,
   "metadata": {},
   "outputs": [],
   "source": []
  },
  {
   "cell_type": "markdown",
   "metadata": {},
   "source": [
    "# Problem 3\n",
    "\n",
    "Another check: we expect the data to be balanced across classes. Verify that."
   ]
  },
  {
   "cell_type": "markdown",
   "metadata": {},
   "source": [
    "Merge and prune the training data as needed. Depending on your computer setup, you might not be able to fit it all in memory, and you can tune train_size as needed. The labels will be stored into a separate array of integers 0 through 9.\n",
    "\n",
    "Also create a validation dataset for hyperparameter tuning."
   ]
  },
  {
   "cell_type": "markdown",
   "metadata": {},
   "source": [
    "#### 根据计算机内存，设置合适的训练数据"
   ]
  },
  {
   "cell_type": "code",
   "execution_count": 13,
   "metadata": {},
   "outputs": [],
   "source": [
    "def make_arrays(nb_rows, image_size):\n",
    "    if nb_rows:\n",
    "        dataset = np.ndarray(shape=(nb_rows, image_size, image_size), dtype=np.float32)\n",
    "        labels = np.ndarray(shape=(nb_rows),dtype=np.int32)\n",
    "    else:\n",
    "        dataset, labels = None, None\n",
    "    return dataset, labels\n",
    "\n",
    "def merge_datasets(pickle_files, train_size, valid_size=0):\n",
    "    num_classes = len(pickle_files)\n",
    "    valid_dataset, valid_labels = make_arrays(valid_size, image_size)\n",
    "    train_dataset, train_labels = make_arrays(train_size, image_size)\n",
    "    vsize_per_class = valid_size // num_classes\n",
    "    tsize_per_class = train_size // num_classes\n",
    "    \n",
    "    start_v, start_t = 0, 0\n",
    "    end_v, end_t = vsize_per_class, tsize_per_class\n",
    "    end_l = vsize_per_class + tsize_per_class\n",
    "    print('begin merging...')\n",
    "    for label, pickle_file in enumerate(pickle_files):\n",
    "        try:\n",
    "            with open(pickle_file, 'rb') as f:\n",
    "                letter_set = pickle.load(f)\n",
    "                # let's shuffle the letters to have random validation and training set\n",
    "                np.random.shuffle(letter_set)\n",
    "                if valid_dataset is not None:\n",
    "                    valid_letter = letter_set[:vsize_per_class, :, :]\n",
    "                    valid_dataset[start_v:end_v, :, :] = valid_letter\n",
    "                    valid_labels[start_v:end_v] = label\n",
    "                    start_v += vsize_per_class\n",
    "                    end_v += vsize_per_class\n",
    "                print('label:',label)    \n",
    "                train_letter = letter_set[vsize_per_class:end_l, :, :]\n",
    "                train_dataset[start_t:end_t, :, :] = train_letter\n",
    "                train_labels[start_t:end_t] = label\n",
    "                start_t += tsize_per_class\n",
    "                end_t += tsize_per_class\n",
    "            \n",
    "        except Exception as e:\n",
    "            print('Unalbe to process data from', pickle_file, ':', e)\n",
    "            raise\n",
    "        \n",
    "    return valid_dataset, valid_labels, train_dataset, train_labels"
   ]
  },
  {
   "cell_type": "code",
   "execution_count": 14,
   "metadata": {},
   "outputs": [
    {
     "name": "stdout",
     "output_type": "stream",
     "text": [
      "begin merging...\n",
      "label: 0\n",
      "label: 1\n",
      "label: 2\n",
      "label: 3\n",
      "label: 4\n",
      "label: 5\n",
      "label: 6\n",
      "label: 7\n",
      "label: 8\n",
      "label: 9\n",
      "begin merging...\n",
      "label: 0\n",
      "label: 1\n",
      "label: 2\n",
      "label: 3\n",
      "label: 4\n",
      "label: 5\n",
      "label: 6\n",
      "label: 7\n",
      "label: 8\n",
      "label: 9\n",
      "Training: (2000, 28, 28) (2000,)\n",
      "Validation: (100, 28, 28) (100,)\n",
      "Testing: (100, 28, 28) (100,)\n"
     ]
    }
   ],
   "source": [
    "train_size = 2000\n",
    "valid_size = 100\n",
    "test_size = 100\n",
    "\n",
    "valid_dataset, valid_labels, train_dataset, train_labels = merge_datasets(\n",
    "    train_datasets_name, train_size, valid_size)\n",
    "_, _, test_dataset, test_labels = merge_datasets(test_datasets_name, test_size)\n",
    "\n",
    "print('Training:', train_dataset.shape, train_labels.shape)\n",
    "print('Validation:', valid_dataset.shape, valid_labels.shape)\n",
    "print('Testing:', test_dataset.shape, test_labels.shape)"
   ]
  },
  {
   "cell_type": "markdown",
   "metadata": {},
   "source": [
    "\n",
    "Next, we'll randomize the data. It's important to have the labels well shuffled for the training and test distributions to match."
   ]
  },
  {
   "cell_type": "markdown",
   "metadata": {},
   "source": [
    "#### 随机化数据"
   ]
  },
  {
   "cell_type": "code",
   "execution_count": 15,
   "metadata": {},
   "outputs": [],
   "source": [
    "def randomize(dataset, labels):\n",
    "    permutation = np.random.permutation(labels.shape[0])\n",
    "    shuffled_dataset = dataset[permutation, :, :]\n",
    "    shuffled_labels = labels[permutation]\n",
    "    return shuffled_dataset, shuffled_labels\n",
    "\n",
    "train_dataset, train_labels = randomize(train_dataset, train_labels)\n",
    "valid_dataset, valid_labels = randomize(valid_dataset, valid_labels)\n",
    "test_dataset, test_labels = randomize(test_dataset, test_labels)"
   ]
  },
  {
   "cell_type": "code",
   "execution_count": 16,
   "metadata": {},
   "outputs": [
    {
     "name": "stdout",
     "output_type": "stream",
     "text": [
      "[9 6 1 ... 1 1 9]\n",
      "(2000,)\n"
     ]
    }
   ],
   "source": [
    "print(train_labels)\n",
    "#print(np.random.permutation(train_labels.shape[0]))\n",
    "type(train_dataset)\n",
    "print(train_labels.shape)"
   ]
  },
  {
   "cell_type": "markdown",
   "metadata": {},
   "source": [
    "# Problem 4\n",
    "Convince yourself that the data is still good after shuffling!"
   ]
  },
  {
   "cell_type": "markdown",
   "metadata": {},
   "source": [
    "#### shuffle之后再次验证数据是否有效"
   ]
  },
  {
   "cell_type": "code",
   "execution_count": 17,
   "metadata": {},
   "outputs": [
    {
     "name": "stdout",
     "output_type": "stream",
     "text": [
      "Training: (2000, 28, 28) (2000,)\n",
      "Validation: (100, 28, 28) (100,)\n",
      "Testing: (100, 28, 28) (100,)\n"
     ]
    },
    {
     "data": {
      "image/png": "[encoded data removed]",
      "text/plain": [
       "<Figure size 432x288 with 1 Axes>"
      ]
     },
     "metadata": {
      "needs_background": "light"
     },
     "output_type": "display_data"
    }
   ],
   "source": [
    "import matplotlib.pyplot as plt\n",
    "%matplotlib inline\n",
    "\n",
    "picture = train_dataset[0]\n",
    "plt.imshow(picture)\n",
    "print('Training:', train_dataset.shape, train_labels.shape)\n",
    "print('Validation:', valid_dataset.shape, valid_labels.shape)\n",
    "print('Testing:', test_dataset.shape, test_labels.shape)"
   ]
  },
  {
   "cell_type": "markdown",
   "metadata": {},
   "source": [
    "#### Finally, let's save the data for later reuse:\n",
    "#### 保存shuffle之后的数据"
   ]
  },
  {
   "cell_type": "code",
   "execution_count": 18,
   "metadata": {},
   "outputs": [],
   "source": [
    "pickle_file = os.path.join(data_directory, 'notMNIST.pickle')\n",
    "\n",
    "try:\n",
    "    f = open(pickle_file, 'wb')\n",
    "    save = {\n",
    "        'train_dataset': train_dataset,\n",
    "        'train_labels': train_labels,\n",
    "        'valid_dataset': valid_dataset,\n",
    "        'valid_labels': valid_labels,\n",
    "        'test_dataset': test_dataset,\n",
    "        'test_labels': test_labels\n",
    "    }\n",
    "    \n",
    "    pickle.dump(save, f, pickle.HIGHEST_PROTOCOL)\n",
    "    f.close()\n",
    "except Exception as e:\n",
    "    print('Unable to save data to', pickle_file, ':', e)\n",
    "    raise"
   ]
  },
  {
   "cell_type": "code",
   "execution_count": 19,
   "metadata": {},
   "outputs": [
    {
     "name": "stdout",
     "output_type": "stream",
     "text": [
      "Compressed pickle size: 6908489\n"
     ]
    }
   ],
   "source": [
    "statinfo = os.stat(pickle_file)\n",
    "print('Compressed pickle size:', statinfo.st_size)"
   ]
  },
  {
   "cell_type": "markdown",
   "metadata": {},
   "source": [
    "# Problem 5\n",
    "By construction, this dataset might contain a lot of overlapping samples, including training data that's also contained in the validation and test set! Overlap between training and test can skew the results if you expect to use your model in an environment where there is never an overlap, but are actually ok if you expect to see training samples recur when you use it. Measure how much overlap there is between training, validation and test samples.\n",
    "\n",
    "Optional questions:\n",
    "\n",
    "What about near duplicates between datasets? (images that are almost identical)\n",
    "Create a sanitized validation and test set, and compare your accuracy on those in subsequent assignments.\n"
   ]
  },
  {
   "cell_type": "markdown",
   "metadata": {},
   "source": [
    "#### 判断训练集/测试集/验证集的重叠程度"
   ]
  },
  {
   "cell_type": "code",
   "execution_count": null,
   "metadata": {},
   "outputs": [],
   "source": []
  },
  {
   "cell_type": "code",
   "execution_count": null,
   "metadata": {},
   "outputs": [],
   "source": []
  },
  {
   "cell_type": "markdown",
   "metadata": {},
   "source": [
    "# Problem 6\n",
    "Let's get an idea of what an off-the-shelf classifier can give you on this data. It's always good to check that there is something to learn, and that it's a problem that is not so trivial that a canned solution solves it.\n",
    "\n",
    "Train a simple model on this data using 50, 100, 1000 and 5000 training samples. Hint: you can use the LogisticRegression model from sklearn.linear_model.\n",
    "\n",
    "Optional question: train an off-the-shelf model on all the data!"
   ]
  },
  {
   "cell_type": "markdown",
   "metadata": {},
   "source": [
    "#### 在sklearn模型中将这些图片分类"
   ]
  },
  {
   "cell_type": "code",
   "execution_count": null,
   "metadata": {},
   "outputs": [],
   "source": []
  }
 ],
 "metadata": {
  "kernelspec": {
   "display_name": "Python 3",
   "language": "python",
   "name": "python3"
  },
  "language_info": {
   "codemirror_mode": {
    "name": "ipython",
    "version": 3
   },
   "file_extension": ".py",
   "mimetype": "text/x-python",
   "name": "python",
   "nbconvert_exporter": "python",
   "pygments_lexer": "ipython3",
   "version": "3.7.3"
  }
 },
 "nbformat": 4,
 "nbformat_minor": 2
}
