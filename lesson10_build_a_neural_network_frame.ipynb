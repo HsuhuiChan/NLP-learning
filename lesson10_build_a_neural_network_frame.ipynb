{
 "cells": [
  {
   "cell_type": "markdown",
   "metadata": {},
   "source": [
    "# Target: using python and numpy implement a neural network framework."
   ]
  },
  {
   "cell_type": "markdown",
   "metadata": {},
   "source": [
    "Node:\n",
    "\n",
    "+ forward: Function, how to calculate the inputs\n",
    "+ backwards: Function, how to get the gradients when backpropogation\n",
    "+ gradients: Mapper, the gradient map the this node of its inputs node\n",
    "+ inputs: List, the input nodes of this node\n",
    "+ outputs: List, the output node of this node"
   ]
  },
  {
   "cell_type": "markdown",
   "metadata": {},
   "source": [
    "## 用面向对象的方式来组织这个框架"
   ]
  },
  {
   "cell_type": "markdown",
   "metadata": {},
   "source": [
    "1. 构建基类"
   ]
  },
  {
   "cell_type": "code",
   "execution_count": 35,
   "metadata": {},
   "outputs": [],
   "source": [
    "class Node:\n",
    "    \"\"\"\n",
    "    each node in neural networks will have these attributes and methods.\n",
    "    \"\"\"\n",
    "    def __init__(self, inputs=[]):\n",
    "        \"\"\"\n",
    "        if the node is the operator of \"ax+b\", the inputs will be x node, and the outputs of this is its successors.\n",
    "        and the value is \"ax+b\"\n",
    "        \"\"\"\n",
    "        self.inputs = inputs\n",
    "        self.value = None\n",
    "        self.outputs = []\n",
    "        self.gradients = {}\n",
    "        \n",
    "        for node in self.inputs:\n",
    "            node.outputs.append(self) # build a connection relationship\n",
    "            \n",
    "    def forward(self):\n",
    "        \"\"\"\n",
    "        forward propagation. compute the output value based on input nodes and store the value into self.value\n",
    "        \"\"\"\n",
    "        raise NotImplemented\n",
    "        \n",
    "    def backward(self):\n",
    "        \"\"\"\n",
    "        back propagation. compute the gradient of each input node and store the value into self.gradients\n",
    "        \"\"\"\n",
    "        raise NotImplemented\n",
    "        "
   ]
  },
  {
   "cell_type": "markdown",
   "metadata": {},
   "source": [
    "2. 输入节点类"
   ]
  },
  {
   "cell_type": "code",
   "execution_count": 36,
   "metadata": {},
   "outputs": [],
   "source": [
    "class Input(Node):\n",
    "    def __init__(self, name=''):\n",
    "        Node.__init__(self, inputs=[])\n",
    "        self.name = name\n",
    "    \n",
    "    def forward(self, value=None):\n",
    "        if value is not None:\n",
    "            self.value = value\n",
    "        \n",
    "    def backward(self):\n",
    "        self.gradients = {}\n",
    "        for n in self.outputs:\n",
    "            grad_cost = n.gradients[self]\n",
    "            self.gradients[self] = grad_cost\n",
    "    \n",
    "    def __repr__(self):\n",
    "        return 'Input Node: {}'.format(self.name)"
   ]
  },
  {
   "cell_type": "code",
   "execution_count": 37,
   "metadata": {},
   "outputs": [
    {
     "name": "stdout",
     "output_type": "stream",
     "text": [
      "(3,) (3, 2)\n"
     ]
    }
   ],
   "source": [
    "import numpy as np\n",
    "X = np.array([1,2,3])\n",
    "W = np.array([[1,2],[3,4],[5,6]])\n",
    "print(X.shape, W.shape)"
   ]
  },
  {
   "cell_type": "code",
   "execution_count": 38,
   "metadata": {},
   "outputs": [
    {
     "data": {
      "text/plain": [
       "array([22, 28])"
      ]
     },
     "execution_count": 38,
     "metadata": {},
     "output_type": "execute_result"
    }
   ],
   "source": [
    "np.dot(X, W) "
   ]
  },
  {
   "cell_type": "markdown",
   "metadata": {},
   "source": [
    "2. 线性传播节点"
   ]
  },
  {
   "cell_type": "code",
   "execution_count": 39,
   "metadata": {},
   "outputs": [],
   "source": [
    "class Linear(Node):\n",
    "    def __init__(self, nodes, weights, bias,name=''):\n",
    "        self.w_node = weights\n",
    "        self.x_node = nodes\n",
    "        self.b_node = bias\n",
    "        self.name = name\n",
    "        Node.__init__(self, inputs = [nodes, weights, bias]) # inputs = [nodes, weights, bias]\n",
    "        \n",
    "    def forward(self):\n",
    "        \"\"\"\n",
    "        compute the wx+b using numpy\n",
    "        \"\"\"\n",
    "        self.value = np.dot(self.x_node.value, self.w_node.value) + self.b_node.value\n",
    "        \n",
    "    def backward(self):\n",
    "        for node in self.outputs:\n",
    "            # gradient_of_loss_of_this_output_node = node.gradient[self]\n",
    "            grad_cost = node.gradients[self]\n",
    "            \n",
    "            self.gradients[self.w_node] = np.dot(self.x_node.value.T, grad_cost)\n",
    "            self.gradients[self.b_node] = np.sum(grad_cost*1, axis=0, keepdims=False)\n",
    "            self.gradients[self.x_node] = np.dot(grad_cost, self.w_node.value.T)"
   ]
  },
  {
   "cell_type": "code",
   "execution_count": 40,
   "metadata": {},
   "outputs": [],
   "source": [
    "class Sigmoid(Node):\n",
    "    def __init__(self, node,name=''):\n",
    "        Node.__init__(self,[node]) \n",
    "        self.x_node = node\n",
    "        self.name = name\n",
    "    \n",
    "    def _sigmoid(self, x):\n",
    "        return 1.0/(1+np.exp(-x))\n",
    "    \n",
    "    def forward(self):\n",
    "        self.value = self._sigmoid(self.x_node.value)\n",
    "    \n",
    "    def backward(self):\n",
    "        y = self.value\n",
    "        self.partial = y*(1-y)\n",
    "        for n in self.outputs:\n",
    "            grad_cost = n.gradients[self]\n",
    "            self.gradients[self.x_node] = grad_cost * self.partial"
   ]
  },
  {
   "cell_type": "code",
   "execution_count": 41,
   "metadata": {},
   "outputs": [],
   "source": [
    "class MSE(Node):\n",
    "    def __init__(self, y_true, y_hat,name=''):\n",
    "        self.y_true_node = y_true\n",
    "        self.y_hat_node = y_hat\n",
    "        self.name = ''\n",
    "        Node.__init__(self, inputs=[y_true, y_hat])\n",
    "        \n",
    "    def forward(self):\n",
    "        y_true_flatten = self.y_true_node.value.reshape(-1,1)\n",
    "        y_hat_flatten = self.y_hat_node.value.reshape(-1,1)\n",
    "        self.value = np.mean((y_true_flatten - y_hat_flatten)**2)\n",
    "        \n",
    "    def backward(self):\n",
    "        n = self.y_hat_node.value.shape[0]\n",
    "        y_true_flatten = self.y_true_node.value.reshape(-1,1)\n",
    "        y_hat_flatten = self.y_hat_node.value.reshape(-1,1)\n",
    "        self.gradients[self.y_true_node] = (2/n)*(y_true_flatten - y_hat_flatten)\n",
    "        self.gradients[self.y_hat_node] = (-2/n)*(y_true_flatten - y_hat_flatten)"
   ]
  },
  {
   "cell_type": "code",
   "execution_count": 42,
   "metadata": {},
   "outputs": [],
   "source": [
    "def training_one_batch(topological_sorted_graph):\n",
    "    # graph 是经过拓扑排序之后的一个list\n",
    "    for node in topological_sorted_graph:\n",
    "        node.forward()\n",
    "    \n",
    "    for node in topological_sorted_graph[::-1]:\n",
    "        node.backward()"
   ]
  },
  {
   "cell_type": "code",
   "execution_count": 43,
   "metadata": {},
   "outputs": [
    {
     "data": {
      "text/plain": [
       "[2, 3, 4, 5, 1]"
      ]
     },
     "execution_count": 43,
     "metadata": {},
     "output_type": "execute_result"
    }
   ],
   "source": [
    "a=[1,5,4,3,2]\n",
    "a[::-1]"
   ]
  },
  {
   "cell_type": "code",
   "execution_count": 44,
   "metadata": {},
   "outputs": [
    {
     "data": {
      "text/plain": [
       "[1, 5, 4, 3, 2]"
      ]
     },
     "execution_count": 44,
     "metadata": {},
     "output_type": "execute_result"
    }
   ],
   "source": [
    "a"
   ]
  },
  {
   "cell_type": "code",
   "execution_count": 45,
   "metadata": {},
   "outputs": [],
   "source": [
    "def topological_sort(data_with_value):\n",
    "    feed_dict = data_with_value\n",
    "    input_nodes = [n for n in feed_dict.keys()]\n",
    "    G = {}\n",
    "    nodes = [n for n in input_nodes]\n",
    "    while len(nodes) > 0:\n",
    "        n = nodes.pop(0)\n",
    "        if n not in G:\n",
    "            G[n] = {'in':set(), 'out':set()}\n",
    "        for m in n.outputs:\n",
    "            if m not in G:\n",
    "                G[m] = {'in':set(), 'out':set()}\n",
    "            G[n]['out'].add(m)\n",
    "            G[m]['in'].add(n)\n",
    "            nodes.append(m)\n",
    "            \n",
    "    L = []\n",
    "    S = set(input_nodes)\n",
    "    while len(S) > 0:\n",
    "        n = S.pop()\n",
    "        \n",
    "        if isinstance(n, Input): # 判断n是否属于Input类，考虑继承关系\n",
    "            n.value = feed_dict[n]\n",
    "        \n",
    "        L.append(n)\n",
    "        for m in n.outputs:\n",
    "            G[n]['out'].remove(m)\n",
    "            G[m]['in'].remove(n)\n",
    "            if len(G[m]['in']) == 0:\n",
    "                S.add(m)\n",
    "    return L"
   ]
  },
  {
   "cell_type": "code",
   "execution_count": 46,
   "metadata": {},
   "outputs": [],
   "source": [
    "def sgd_update(trainable_nodes, learning_rate=1e-2):\n",
    "    for t in trainable_nodes:\n",
    "        t.value += -1*learning_rate * t.gradients[t]"
   ]
  },
  {
   "cell_type": "code",
   "execution_count": 47,
   "metadata": {},
   "outputs": [],
   "source": [
    "from sklearn.datasets import load_boston\n",
    "data = load_boston()\n",
    "X_ = data['data']\n",
    "y_ = data['target']\n"
   ]
  },
  {
   "cell_type": "markdown",
   "metadata": {},
   "source": [
    "# build a graph connection\n",
    "## 1. build nodes in this graph"
   ]
  },
  {
   "cell_type": "code",
   "execution_count": 48,
   "metadata": {},
   "outputs": [],
   "source": [
    "X, y = Input(name='X'), Input(name='y') # tensorflow -> placeholder\n",
    "W1, b1 = Input(name='W1'), Input(name='b1')\n",
    "W2, b2 = Input(name='W2'), Input(name='b2')"
   ]
  },
  {
   "cell_type": "markdown",
   "metadata": {},
   "source": [
    "### 2. build connection relationship"
   ]
  },
  {
   "cell_type": "code",
   "execution_count": 49,
   "metadata": {},
   "outputs": [],
   "source": [
    "linear_output1 = Linear(X, W1, b1,name='linear1')\n",
    "sigmoid_output1 = Sigmoid(linear_output1,name='sigmoid1')\n",
    "yhat = Linear(sigmoid_output1, W2, b2,name='yhat')\n",
    "loss = MSE(y, yhat)"
   ]
  },
  {
   "cell_type": "markdown",
   "metadata": {},
   "source": [
    "现在只建立三层全连接网络，作业里我们可以把网络变得更复杂"
   ]
  },
  {
   "cell_type": "code",
   "execution_count": 52,
   "metadata": {},
   "outputs": [],
   "source": [
    "num_feature = X_.shape[1]\n",
    "num_hidden1 = 10\n",
    "W1_ = np.random.randn(num_feature, num_hidden1)\n",
    "b1_ = np.zeros(num_hidden1)\n",
    "\n",
    "W2_ = np.random.randn(num_hidden1,1)\n",
    "b2_ = np.zeros(1)"
   ]
  },
  {
   "cell_type": "code",
   "execution_count": 53,
   "metadata": {},
   "outputs": [],
   "source": [
    "# feed_dict\n",
    "input_node_with_value = {  \n",
    "    X: X_,\n",
    "    y: y_,\n",
    "    W1: W1_,\n",
    "    W2: W2_,\n",
    "    b1: b1_,\n",
    "    b2: b2_,\n",
    "}"
   ]
  },
  {
   "cell_type": "code",
   "execution_count": 54,
   "metadata": {},
   "outputs": [],
   "source": [
    "graph = topological_sort(input_node_with_value)"
   ]
  },
  {
   "cell_type": "code",
   "execution_count": 55,
   "metadata": {},
   "outputs": [
    {
     "data": {
      "text/plain": [
       "[Input Node: W1,\n",
       " Input Node: b2,\n",
       " Input Node: W2,\n",
       " Input Node: b1,\n",
       " Input Node: y,\n",
       " Input Node: X,\n",
       " <__main__.Linear at 0x1613dd67198>,\n",
       " <__main__.Sigmoid at 0x1613dd67e48>,\n",
       " <__main__.Linear at 0x1613dd67400>,\n",
       " <__main__.MSE at 0x1613dd67860>]"
      ]
     },
     "execution_count": 55,
     "metadata": {},
     "output_type": "execute_result"
    }
   ],
   "source": [
    "graph"
   ]
  },
  {
   "cell_type": "code",
   "execution_count": 56,
   "metadata": {},
   "outputs": [
    {
     "data": {
      "text/plain": [
       "array([89, 63, 46,  5, 68,  2,  9,  0,  2, 60])"
      ]
     },
     "execution_count": 56,
     "metadata": {},
     "output_type": "execute_result"
    }
   ],
   "source": [
    "from sklearn.utils import resample\n",
    "np.random.choice(range(100), size=10, replace=True)"
   ]
  },
  {
   "cell_type": "code",
   "execution_count": 57,
   "metadata": {},
   "outputs": [],
   "source": [
    "def run(dictionary):\n",
    "    return topological_sort(dictionary)"
   ]
  },
  {
   "cell_type": "code",
   "execution_count": 58,
   "metadata": {},
   "outputs": [
    {
     "name": "stdout",
     "output_type": "stream",
     "text": [
      "Epoch: 1, loss=653.707\n",
      "Epoch: 101, loss=103.299\n",
      "Epoch: 201, loss=99.959\n",
      "Epoch: 301, loss=71.194\n",
      "Epoch: 401, loss=91.245\n",
      "Epoch: 501, loss=82.033\n",
      "Epoch: 601, loss=84.636\n",
      "Epoch: 701, loss=78.031\n",
      "Epoch: 801, loss=88.073\n",
      "Epoch: 901, loss=91.402\n",
      "Epoch: 1001, loss=89.760\n",
      "Epoch: 1101, loss=82.151\n",
      "Epoch: 1201, loss=84.375\n",
      "Epoch: 1301, loss=90.389\n",
      "Epoch: 1401, loss=69.999\n",
      "Epoch: 1501, loss=75.784\n",
      "Epoch: 1601, loss=80.914\n",
      "Epoch: 1701, loss=80.290\n",
      "Epoch: 1801, loss=84.953\n",
      "Epoch: 1901, loss=71.685\n"
     ]
    }
   ],
   "source": [
    "losses = []\n",
    "epochs = 2000\n",
    "learning_rate = 1e-3\n",
    "batch_size = 64\n",
    "steps_per_epoch = X_.shape[0]//batch_size\n",
    "\n",
    "for i in range(epochs):\n",
    "    loss = 0\n",
    "    for batch in range(steps_per_epoch):\n",
    "        X_batch, y_batch = resample(X_, y_, n_samples=batch_size)\n",
    "        X.value = X_batch\n",
    "        y.value = y_batch\n",
    "    \n",
    "        training_one_batch(graph)\n",
    "        sgd_update(trainable_nodes = [W1,W1,b1,b2], learning_rate=learning_rate)\n",
    "        loss += graph[-1].value\n",
    "    if i%100==0:\n",
    "        print('Epoch: {}, loss={:.3f}'.format(i+1, loss/steps_per_epoch))\n",
    "        losses.append(loss)"
   ]
  },
  {
   "cell_type": "code",
   "execution_count": 59,
   "metadata": {},
   "outputs": [
    {
     "data": {
      "text/plain": [
       "[<matplotlib.lines.Line2D at 0x16141bea400>]"
      ]
     },
     "execution_count": 59,
     "metadata": {},
     "output_type": "execute_result"
    },
    {
     "data": {
      "image/png": "[encoded data removed]",
      "text/plain": [
       "<Figure size 432x288 with 1 Axes>"
      ]
     },
     "metadata": {
      "needs_background": "light"
     },
     "output_type": "display_data"
    }
   ],
   "source": [
    "import matplotlib.pyplot as plt\n",
    "%matplotlib inline\n",
    "plt.plot(losses)"
   ]
  },
  {
   "cell_type": "code",
   "execution_count": 51,
   "metadata": {},
   "outputs": [
    {
     "data": {
      "text/plain": [
       "['yhat']"
      ]
     },
     "execution_count": 51,
     "metadata": {},
     "output_type": "execute_result"
    }
   ],
   "source": [
    "[n.name for n in W2.outputs]"
   ]
  },
  {
   "cell_type": "markdown",
   "metadata": {},
   "source": [
    "还没整明白：\n",
    "\n",
    "1. 图拓扑排序； *明白了\n",
    "2. 每个node的self.outputs列表怎么添加元素的，即输入输出关系如何确定\n",
    "\n",
    "如：执行完这句语句，linear_output1 = Linear(X, W1, b1,name='linear1')，W1.outputs就得到linear1."
   ]
  },
  {
   "cell_type": "code",
   "execution_count": null,
   "metadata": {},
   "outputs": [],
   "source": []
  }
 ],
 "metadata": {
  "kernelspec": {
   "display_name": "Python [conda env:pytorch]",
   "language": "python",
   "name": "conda-env-pytorch-py"
  },
  "language_info": {
   "codemirror_mode": {
    "name": "ipython",
    "version": 3
   },
   "file_extension": ".py",
   "mimetype": "text/x-python",
   "name": "python",
   "nbconvert_exporter": "python",
   "pygments_lexer": "ipython3",
   "version": "3.7.3"
  }
 },
 "nbformat": 4,
 "nbformat_minor": 2
}
